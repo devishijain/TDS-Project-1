{
 "cells": [
  {
   "cell_type": "code",
   "execution_count": 36,
   "id": "17871c8c-d5b7-4881-8fb2-c3f084deec73",
   "metadata": {},
   "outputs": [],
   "source": [
    "import pandas as pd\n",
    "import numpy as np\n",
    "import matplotlib.pyplot as plt"
   ]
  },
  {
   "cell_type": "markdown",
   "id": "7108a27f-97e8-4871-ae8d-c4c53a47dfe9",
   "metadata": {},
   "source": [
    "#### Q1.  Who are the top 5 users in Basel with the highest number of followers? List their login in order, comma-separated"
   ]
  },
  {
   "cell_type": "code",
   "execution_count": 37,
   "id": "4259def7-3934-411b-b441-64d7d24bd92c",
   "metadata": {},
   "outputs": [
    {
     "data": {
      "text/html": [
       "<div>\n",
       "<style scoped>\n",
       "    .dataframe tbody tr th:only-of-type {\n",
       "        vertical-align: middle;\n",
       "    }\n",
       "\n",
       "    .dataframe tbody tr th {\n",
       "        vertical-align: top;\n",
       "    }\n",
       "\n",
       "    .dataframe thead th {\n",
       "        text-align: right;\n",
       "    }\n",
       "</style>\n",
       "<table border=\"1\" class=\"dataframe\">\n",
       "  <thead>\n",
       "    <tr style=\"text-align: right;\">\n",
       "      <th></th>\n",
       "      <th>login</th>\n",
       "      <th>name</th>\n",
       "      <th>company</th>\n",
       "      <th>location</th>\n",
       "      <th>email</th>\n",
       "      <th>hireable</th>\n",
       "      <th>bio</th>\n",
       "      <th>public_repos</th>\n",
       "      <th>followers</th>\n",
       "      <th>following</th>\n",
       "      <th>created_at</th>\n",
       "    </tr>\n",
       "  </thead>\n",
       "  <tbody>\n",
       "    <tr>\n",
       "      <th>0</th>\n",
       "      <td>ValentineFernandes</td>\n",
       "      <td>Valentine Fernandes</td>\n",
       "      <td>NaN</td>\n",
       "      <td>Mumbai, India</td>\n",
       "      <td>NaN</td>\n",
       "      <td>NaN</td>\n",
       "      <td>HTML |  CSS |  JS  |  SQL |  MYSQL | JAVA</td>\n",
       "      <td>66</td>\n",
       "      <td>5251</td>\n",
       "      <td>5275</td>\n",
       "      <td>2022-01-29T08:11:37Z</td>\n",
       "    </tr>\n",
       "    <tr>\n",
       "      <th>1</th>\n",
       "      <td>kovidgoyal</td>\n",
       "      <td>Kovid Goyal</td>\n",
       "      <td>NaN</td>\n",
       "      <td>Mumbai, India</td>\n",
       "      <td>NaN</td>\n",
       "      <td>NaN</td>\n",
       "      <td>Principal developer of calibre and kitty</td>\n",
       "      <td>37</td>\n",
       "      <td>4298</td>\n",
       "      <td>0</td>\n",
       "      <td>2012-01-06T05:38:24Z</td>\n",
       "    </tr>\n",
       "    <tr>\n",
       "      <th>2</th>\n",
       "      <td>slidenerd</td>\n",
       "      <td>slidenerd</td>\n",
       "      <td>SLIDENERD</td>\n",
       "      <td>Mumbai</td>\n",
       "      <td>slidenerd@gmail.com</td>\n",
       "      <td>True</td>\n",
       "      <td>Bots, AI, advanced web frameworks, ohlc applic...</td>\n",
       "      <td>113</td>\n",
       "      <td>3167</td>\n",
       "      <td>1</td>\n",
       "      <td>2013-08-01T14:17:19Z</td>\n",
       "    </tr>\n",
       "    <tr>\n",
       "      <th>3</th>\n",
       "      <td>aryashah2k</td>\n",
       "      <td>Arya Shah</td>\n",
       "      <td>OPENAOD</td>\n",
       "      <td>Mumbai, India</td>\n",
       "      <td>NaN</td>\n",
       "      <td>NaN</td>\n",
       "      <td>Computer Science Major | Machine Learning | So...</td>\n",
       "      <td>88</td>\n",
       "      <td>2601</td>\n",
       "      <td>2583</td>\n",
       "      <td>2020-11-03T03:06:19Z</td>\n",
       "    </tr>\n",
       "    <tr>\n",
       "      <th>4</th>\n",
       "      <td>coding-parrot</td>\n",
       "      <td>Gaurav Sen</td>\n",
       "      <td>INTERVIEWREADY</td>\n",
       "      <td>Mumbai, India</td>\n",
       "      <td>NaN</td>\n",
       "      <td>NaN</td>\n",
       "      <td>CEO of InterviewReady</td>\n",
       "      <td>11</td>\n",
       "      <td>2417</td>\n",
       "      <td>0</td>\n",
       "      <td>2020-01-03T14:13:35Z</td>\n",
       "    </tr>\n",
       "  </tbody>\n",
       "</table>\n",
       "</div>"
      ],
      "text/plain": [
       "                login                 name         company       location  \\\n",
       "0  ValentineFernandes  Valentine Fernandes             NaN  Mumbai, India   \n",
       "1          kovidgoyal          Kovid Goyal             NaN  Mumbai, India   \n",
       "2           slidenerd            slidenerd       SLIDENERD         Mumbai   \n",
       "3          aryashah2k            Arya Shah         OPENAOD  Mumbai, India   \n",
       "4       coding-parrot           Gaurav Sen  INTERVIEWREADY  Mumbai, India   \n",
       "\n",
       "                 email hireable  \\\n",
       "0                  NaN      NaN   \n",
       "1                  NaN      NaN   \n",
       "2  slidenerd@gmail.com     True   \n",
       "3                  NaN      NaN   \n",
       "4                  NaN      NaN   \n",
       "\n",
       "                                                 bio  public_repos  followers  \\\n",
       "0          HTML |  CSS |  JS  |  SQL |  MYSQL | JAVA            66       5251   \n",
       "1           Principal developer of calibre and kitty            37       4298   \n",
       "2  Bots, AI, advanced web frameworks, ohlc applic...           113       3167   \n",
       "3  Computer Science Major | Machine Learning | So...            88       2601   \n",
       "4                              CEO of InterviewReady            11       2417   \n",
       "\n",
       "   following            created_at  \n",
       "0       5275  2022-01-29T08:11:37Z  \n",
       "1          0  2012-01-06T05:38:24Z  \n",
       "2          1  2013-08-01T14:17:19Z  \n",
       "3       2583  2020-11-03T03:06:19Z  \n",
       "4          0  2020-01-03T14:13:35Z  "
      ]
     },
     "execution_count": 37,
     "metadata": {},
     "output_type": "execute_result"
    }
   ],
   "source": [
    "users = pd.read_csv('users.csv')\n",
    "users.head()"
   ]
  },
  {
   "cell_type": "code",
   "execution_count": 38,
   "id": "f37b7348-3978-4355-948f-8b87845756c0",
   "metadata": {},
   "outputs": [
    {
     "name": "stderr",
     "output_type": "stream",
     "text": [
      "C:\\Users\\admin\\AppData\\Local\\Temp\\ipykernel_8856\\1926759118.py:1: FutureWarning: Downcasting object dtype arrays on .fillna, .ffill, .bfill is deprecated and will change in a future version. Call result.infer_objects(copy=False) instead. To opt-in to the future behavior, set `pd.set_option('future.no_silent_downcasting', True)`\n",
      "  users['hireable'] = users['hireable'].fillna(False).astype(bool)\n"
     ]
    }
   ],
   "source": [
    "users['hireable'] = users['hireable'].fillna(False).astype(bool)"
   ]
  },
  {
   "cell_type": "code",
   "execution_count": 39,
   "id": "a14993f9-48d3-4956-9cca-d4349c30f649",
   "metadata": {},
   "outputs": [
    {
     "name": "stdout",
     "output_type": "stream",
     "text": [
      "ValentineFernandes,kovidgoyal,slidenerd,aryashah2k,coding-parrot\n"
     ]
    }
   ],
   "source": [
    "top5 = users.sort_values(by='followers', ascending=False).head()\n",
    "print(','.join(top5['login'].tolist()))"
   ]
  },
  {
   "cell_type": "markdown",
   "id": "6cc86ddb-88c3-453c-bf56-29614358b62e",
   "metadata": {},
   "source": [
    "#### Q2. Who are the 5 earliest registered GitHub users in Basel? List their login in ascending order of created_at, comma-separated."
   ]
  },
  {
   "cell_type": "code",
   "execution_count": 40,
   "id": "afe79990-ccd3-4c8d-b184-45de1f19097c",
   "metadata": {},
   "outputs": [],
   "source": [
    "users['created_at'] = pd.to_datetime(users['created_at'])"
   ]
  },
  {
   "cell_type": "code",
   "execution_count": 41,
   "id": "f9645405-1745-4f06-9ba8-681b5c1e51b0",
   "metadata": {},
   "outputs": [
    {
     "name": "stdout",
     "output_type": "stream",
     "text": [
      "ivank,sandeepshetty,svs,nitinhayaran,nischal\n"
     ]
    }
   ],
   "source": [
    "top_earliest = users.sort_values(by='created_at').head()\n",
    "print(','.join(top_earliest['login'].tolist()))"
   ]
  },
  {
   "cell_type": "markdown",
   "id": "1675cbcf-6a8b-4af8-b24a-1372f68efd6b",
   "metadata": {},
   "source": [
    "#### Q3. What are the 3 most popular license among these users? Ignore missing licenses. List the license_name in order, comma-separated."
   ]
  },
  {
   "cell_type": "code",
   "execution_count": 42,
   "id": "a139a9a8-9ded-4175-b023-fe871850f3a4",
   "metadata": {},
   "outputs": [
    {
     "data": {
      "text/html": [
       "<div>\n",
       "<style scoped>\n",
       "    .dataframe tbody tr th:only-of-type {\n",
       "        vertical-align: middle;\n",
       "    }\n",
       "\n",
       "    .dataframe tbody tr th {\n",
       "        vertical-align: top;\n",
       "    }\n",
       "\n",
       "    .dataframe thead th {\n",
       "        text-align: right;\n",
       "    }\n",
       "</style>\n",
       "<table border=\"1\" class=\"dataframe\">\n",
       "  <thead>\n",
       "    <tr style=\"text-align: right;\">\n",
       "      <th></th>\n",
       "      <th>login</th>\n",
       "      <th>full_name</th>\n",
       "      <th>created_at</th>\n",
       "      <th>stargazers_count</th>\n",
       "      <th>watchers_count</th>\n",
       "      <th>language</th>\n",
       "      <th>has_projects</th>\n",
       "      <th>has_wiki</th>\n",
       "      <th>license_name</th>\n",
       "    </tr>\n",
       "  </thead>\n",
       "  <tbody>\n",
       "    <tr>\n",
       "      <th>0</th>\n",
       "      <td>ValentineFernandes</td>\n",
       "      <td>ValentineFernandes/Age-Calculator-</td>\n",
       "      <td>2022-08-17T06:32:19Z</td>\n",
       "      <td>13</td>\n",
       "      <td>13</td>\n",
       "      <td>CSS</td>\n",
       "      <td>True</td>\n",
       "      <td>True</td>\n",
       "      <td>mit</td>\n",
       "    </tr>\n",
       "    <tr>\n",
       "      <th>1</th>\n",
       "      <td>ValentineFernandes</td>\n",
       "      <td>ValentineFernandes/ASP.NET-</td>\n",
       "      <td>2022-04-26T10:12:11Z</td>\n",
       "      <td>18</td>\n",
       "      <td>18</td>\n",
       "      <td>ASP.NET</td>\n",
       "      <td>True</td>\n",
       "      <td>True</td>\n",
       "      <td>NaN</td>\n",
       "    </tr>\n",
       "    <tr>\n",
       "      <th>2</th>\n",
       "      <td>ValentineFernandes</td>\n",
       "      <td>ValentineFernandes/Assignment-4.2</td>\n",
       "      <td>2022-04-14T11:55:25Z</td>\n",
       "      <td>15</td>\n",
       "      <td>15</td>\n",
       "      <td>HTML</td>\n",
       "      <td>True</td>\n",
       "      <td>True</td>\n",
       "      <td>NaN</td>\n",
       "    </tr>\n",
       "    <tr>\n",
       "      <th>3</th>\n",
       "      <td>ValentineFernandes</td>\n",
       "      <td>ValentineFernandes/Bank-Management-System</td>\n",
       "      <td>2022-04-24T16:24:17Z</td>\n",
       "      <td>26</td>\n",
       "      <td>26</td>\n",
       "      <td>C</td>\n",
       "      <td>True</td>\n",
       "      <td>True</td>\n",
       "      <td>NaN</td>\n",
       "    </tr>\n",
       "    <tr>\n",
       "      <th>4</th>\n",
       "      <td>ValentineFernandes</td>\n",
       "      <td>ValentineFernandes/BMI-Calculator-Website</td>\n",
       "      <td>2022-08-17T04:47:27Z</td>\n",
       "      <td>11</td>\n",
       "      <td>11</td>\n",
       "      <td>HTML</td>\n",
       "      <td>True</td>\n",
       "      <td>True</td>\n",
       "      <td>mit</td>\n",
       "    </tr>\n",
       "  </tbody>\n",
       "</table>\n",
       "</div>"
      ],
      "text/plain": [
       "                login                                  full_name  \\\n",
       "0  ValentineFernandes         ValentineFernandes/Age-Calculator-   \n",
       "1  ValentineFernandes                ValentineFernandes/ASP.NET-   \n",
       "2  ValentineFernandes          ValentineFernandes/Assignment-4.2   \n",
       "3  ValentineFernandes  ValentineFernandes/Bank-Management-System   \n",
       "4  ValentineFernandes  ValentineFernandes/BMI-Calculator-Website   \n",
       "\n",
       "             created_at  stargazers_count  watchers_count language  \\\n",
       "0  2022-08-17T06:32:19Z                13              13      CSS   \n",
       "1  2022-04-26T10:12:11Z                18              18  ASP.NET   \n",
       "2  2022-04-14T11:55:25Z                15              15     HTML   \n",
       "3  2022-04-24T16:24:17Z                26              26        C   \n",
       "4  2022-08-17T04:47:27Z                11              11     HTML   \n",
       "\n",
       "   has_projects  has_wiki license_name  \n",
       "0          True      True          mit  \n",
       "1          True      True          NaN  \n",
       "2          True      True          NaN  \n",
       "3          True      True          NaN  \n",
       "4          True      True          mit  "
      ]
     },
     "execution_count": 42,
     "metadata": {},
     "output_type": "execute_result"
    }
   ],
   "source": [
    "repos = pd.read_csv('repositories.csv')\n",
    "repos.head()"
   ]
  },
  {
   "cell_type": "code",
   "execution_count": 43,
   "id": "f5b0a4ce-ae41-4066-a59a-58e81f27ad47",
   "metadata": {},
   "outputs": [
    {
     "data": {
      "text/plain": [
       "license_name\n",
       "mit           6398\n",
       "apache-2.0    1620\n",
       "other         1376\n",
       "Name: count, dtype: int64"
      ]
     },
     "execution_count": 43,
     "metadata": {},
     "output_type": "execute_result"
    }
   ],
   "source": [
    "repos['license_name'].value_counts().head(3)"
   ]
  },
  {
   "cell_type": "markdown",
   "id": "662f1894-2c60-429c-b06d-cbe36afe6f08",
   "metadata": {},
   "source": [
    "#### Q4. Which company do the majority of these developers work at?"
   ]
  },
  {
   "cell_type": "code",
   "execution_count": 44,
   "id": "93a985b2-4e56-4871-9757-23e6ae5ed0de",
   "metadata": {},
   "outputs": [
    {
     "data": {
      "text/plain": [
       "company\n",
       "MASAI SCHOOL    14\n",
       "Name: count, dtype: int64"
      ]
     },
     "execution_count": 44,
     "metadata": {},
     "output_type": "execute_result"
    }
   ],
   "source": [
    "users['company'].value_counts().head(1)"
   ]
  },
  {
   "cell_type": "markdown",
   "id": "3e73104c-f44c-4e59-aecc-cb10a34578a1",
   "metadata": {},
   "source": [
    "#### Q5. Which programming language is most popular among these users?"
   ]
  },
  {
   "cell_type": "code",
   "execution_count": 45,
   "id": "1abcf548-42aa-43fc-837e-86c6db860617",
   "metadata": {},
   "outputs": [
    {
     "data": {
      "text/plain": [
       "language\n",
       "JavaScript    6983\n",
       "Name: count, dtype: int64"
      ]
     },
     "execution_count": 45,
     "metadata": {},
     "output_type": "execute_result"
    }
   ],
   "source": [
    "repos['language'].value_counts().head(1)"
   ]
  },
  {
   "cell_type": "markdown",
   "id": "bf7abc13-3226-4c35-b42e-400f06cac01d",
   "metadata": {},
   "source": [
    "#### Q6. Which programming language is the second most popular among users who joined after 2020?"
   ]
  },
  {
   "cell_type": "code",
   "execution_count": 46,
   "id": "d01727ac-d1de-4407-a65b-db7a88223d81",
   "metadata": {},
   "outputs": [
    {
     "data": {
      "text/html": [
       "<div>\n",
       "<style scoped>\n",
       "    .dataframe tbody tr th:only-of-type {\n",
       "        vertical-align: middle;\n",
       "    }\n",
       "\n",
       "    .dataframe tbody tr th {\n",
       "        vertical-align: top;\n",
       "    }\n",
       "\n",
       "    .dataframe thead th {\n",
       "        text-align: right;\n",
       "    }\n",
       "</style>\n",
       "<table border=\"1\" class=\"dataframe\">\n",
       "  <thead>\n",
       "    <tr style=\"text-align: right;\">\n",
       "      <th></th>\n",
       "      <th>login</th>\n",
       "      <th>name</th>\n",
       "      <th>company</th>\n",
       "      <th>location</th>\n",
       "      <th>email</th>\n",
       "      <th>hireable</th>\n",
       "      <th>bio</th>\n",
       "      <th>public_repos</th>\n",
       "      <th>followers</th>\n",
       "      <th>following</th>\n",
       "      <th>created_at</th>\n",
       "    </tr>\n",
       "  </thead>\n",
       "  <tbody>\n",
       "    <tr>\n",
       "      <th>0</th>\n",
       "      <td>ValentineFernandes</td>\n",
       "      <td>Valentine Fernandes</td>\n",
       "      <td>NaN</td>\n",
       "      <td>Mumbai, India</td>\n",
       "      <td>NaN</td>\n",
       "      <td>False</td>\n",
       "      <td>HTML |  CSS |  JS  |  SQL |  MYSQL | JAVA</td>\n",
       "      <td>66</td>\n",
       "      <td>5251</td>\n",
       "      <td>5275</td>\n",
       "      <td>2022-01-29 08:11:37+00:00</td>\n",
       "    </tr>\n",
       "    <tr>\n",
       "      <th>3</th>\n",
       "      <td>aryashah2k</td>\n",
       "      <td>Arya Shah</td>\n",
       "      <td>OPENAOD</td>\n",
       "      <td>Mumbai, India</td>\n",
       "      <td>NaN</td>\n",
       "      <td>False</td>\n",
       "      <td>Computer Science Major | Machine Learning | So...</td>\n",
       "      <td>88</td>\n",
       "      <td>2601</td>\n",
       "      <td>2583</td>\n",
       "      <td>2020-11-03 03:06:19+00:00</td>\n",
       "    </tr>\n",
       "    <tr>\n",
       "      <th>4</th>\n",
       "      <td>coding-parrot</td>\n",
       "      <td>Gaurav Sen</td>\n",
       "      <td>INTERVIEWREADY</td>\n",
       "      <td>Mumbai, India</td>\n",
       "      <td>NaN</td>\n",
       "      <td>False</td>\n",
       "      <td>CEO of InterviewReady</td>\n",
       "      <td>11</td>\n",
       "      <td>2417</td>\n",
       "      <td>0</td>\n",
       "      <td>2020-01-03 14:13:35+00:00</td>\n",
       "    </tr>\n",
       "    <tr>\n",
       "      <th>7</th>\n",
       "      <td>Kushal334</td>\n",
       "      <td>Kushal Shingote</td>\n",
       "      <td>PRACTO TOKOPEDIA</td>\n",
       "      <td>Mumbai, Maharashtra</td>\n",
       "      <td>kushalshingote2@gmail.com</td>\n",
       "      <td>False</td>\n",
       "      <td>Android Developer📱📱\\r\\niOS Apps📱📱\\r\\nSwift | X...</td>\n",
       "      <td>330</td>\n",
       "      <td>1308</td>\n",
       "      <td>9058</td>\n",
       "      <td>2020-06-07 07:21:19+00:00</td>\n",
       "    </tr>\n",
       "    <tr>\n",
       "      <th>11</th>\n",
       "      <td>LakshyaDuhoonISU</td>\n",
       "      <td>Lakshya Duhoon</td>\n",
       "      <td>NaN</td>\n",
       "      <td>Navi Mumbai, India</td>\n",
       "      <td>NaN</td>\n",
       "      <td>False</td>\n",
       "      <td>B.Tech CSE student at ITM Skills University.\\r...</td>\n",
       "      <td>69</td>\n",
       "      <td>891</td>\n",
       "      <td>1536</td>\n",
       "      <td>2023-08-21 06:05:19+00:00</td>\n",
       "    </tr>\n",
       "  </tbody>\n",
       "</table>\n",
       "</div>"
      ],
      "text/plain": [
       "                 login                 name           company  \\\n",
       "0   ValentineFernandes  Valentine Fernandes               NaN   \n",
       "3           aryashah2k            Arya Shah           OPENAOD   \n",
       "4        coding-parrot           Gaurav Sen    INTERVIEWREADY   \n",
       "7            Kushal334      Kushal Shingote  PRACTO TOKOPEDIA   \n",
       "11    LakshyaDuhoonISU       Lakshya Duhoon               NaN   \n",
       "\n",
       "               location                      email  hireable  \\\n",
       "0         Mumbai, India                        NaN     False   \n",
       "3         Mumbai, India                        NaN     False   \n",
       "4         Mumbai, India                        NaN     False   \n",
       "7   Mumbai, Maharashtra  kushalshingote2@gmail.com     False   \n",
       "11   Navi Mumbai, India                        NaN     False   \n",
       "\n",
       "                                                  bio  public_repos  \\\n",
       "0           HTML |  CSS |  JS  |  SQL |  MYSQL | JAVA            66   \n",
       "3   Computer Science Major | Machine Learning | So...            88   \n",
       "4                               CEO of InterviewReady            11   \n",
       "7   Android Developer📱📱\\r\\niOS Apps📱📱\\r\\nSwift | X...           330   \n",
       "11  B.Tech CSE student at ITM Skills University.\\r...            69   \n",
       "\n",
       "    followers  following                created_at  \n",
       "0        5251       5275 2022-01-29 08:11:37+00:00  \n",
       "3        2601       2583 2020-11-03 03:06:19+00:00  \n",
       "4        2417          0 2020-01-03 14:13:35+00:00  \n",
       "7        1308       9058 2020-06-07 07:21:19+00:00  \n",
       "11        891       1536 2023-08-21 06:05:19+00:00  "
      ]
     },
     "execution_count": 46,
     "metadata": {},
     "output_type": "execute_result"
    }
   ],
   "source": [
    "users_after_2020 = users[users['created_at'] > '2020-01-01']\n",
    "users_after_2020.head()"
   ]
  },
  {
   "cell_type": "code",
   "execution_count": 47,
   "id": "aee537b6-38c7-4aa5-baae-c398fe385053",
   "metadata": {},
   "outputs": [
    {
     "data": {
      "text/plain": [
       "language\n",
       "JavaScript          3153\n",
       "HTML                1229\n",
       "Python              1002\n",
       "Jupyter Notebook     712\n",
       "TypeScript           576\n",
       "Name: count, dtype: int64"
      ]
     },
     "execution_count": 47,
     "metadata": {},
     "output_type": "execute_result"
    }
   ],
   "source": [
    "repos_2020 = repos[repos['login'].isin(users_after_2020['login'].tolist())]\n",
    "repos_2020['language'].value_counts().head()"
   ]
  },
  {
   "cell_type": "markdown",
   "id": "d0b07a2f-bcae-496b-ab7e-188a2f0aa7be",
   "metadata": {},
   "source": [
    "#### Q7. Which language has the highest average number of stars per repository? "
   ]
  },
  {
   "cell_type": "code",
   "execution_count": 48,
   "id": "8c8a119a-e562-4855-8330-23b6dccdfea9",
   "metadata": {},
   "outputs": [
    {
     "name": "stdout",
     "output_type": "stream",
     "text": [
      "TSQL 742.5\n"
     ]
    }
   ],
   "source": [
    "avg_stars = repos.groupby('language')['stargazers_count'].mean()\n",
    "top_lang = avg_stars.idxmax()\n",
    "top_stars = avg_stars.max()\n",
    "print(top_lang, top_stars)"
   ]
  },
  {
   "cell_type": "markdown",
   "id": "e430846a-1518-409f-8717-cb2f84570460",
   "metadata": {},
   "source": [
    "#### Q8. Let's define leader_strength as followers / (1 + following). Who are the top 5 in terms of leader_strength? List their login in order, comma-separated."
   ]
  },
  {
   "cell_type": "code",
   "execution_count": 49,
   "id": "aa51b046-149f-4ef5-89ff-62586043992c",
   "metadata": {},
   "outputs": [
    {
     "name": "stdout",
     "output_type": "stream",
     "text": [
      "kovidgoyal,coding-parrot,gkcs,slidenerd,dmalvia\n"
     ]
    }
   ],
   "source": [
    "users['leader_strength'] = users['followers'] / (1 + users['following'])\n",
    "top5_lead = users.sort_values(by='leader_strength', ascending=False).head()\n",
    "print(','.join(top5_lead['login'].tolist()))"
   ]
  },
  {
   "cell_type": "markdown",
   "id": "8dd87be3-3a61-4fe1-ab5c-1ef836c545d3",
   "metadata": {},
   "source": [
    "#### Q9. What is the correlation between the number of followers and the number of public repositories among users in Basel?"
   ]
  },
  {
   "cell_type": "code",
   "execution_count": 50,
   "id": "91e8b274-bde5-41ac-91d2-d965334f2d35",
   "metadata": {},
   "outputs": [
    {
     "data": {
      "text/plain": [
       "np.float64(0.03477301615095707)"
      ]
     },
     "execution_count": 50,
     "metadata": {},
     "output_type": "execute_result"
    }
   ],
   "source": [
    "correlation = users['followers'].corr(users['public_repos'])\n",
    "correlation"
   ]
  },
  {
   "cell_type": "markdown",
   "id": "23dac608-8b88-48d8-aeae-1e11b2cb2b87",
   "metadata": {},
   "source": [
    "#### Q10. Does creating more repos help users get more followers? Using regression, estimate how many additional followers a user gets per additional public repository."
   ]
  },
  {
   "cell_type": "code",
   "execution_count": 51,
   "id": "9eede565-f813-4807-989b-051201f7f411",
   "metadata": {},
   "outputs": [
    {
     "name": "stdout",
     "output_type": "stream",
     "text": [
      "0.102\n"
     ]
    }
   ],
   "source": [
    "import csv\n",
    "followers = []\n",
    "public_repos = []\n",
    "with open('users.csv', 'r', encoding='utf-8') as file:\n",
    "    reader = csv.DictReader(file)\n",
    "    for row in reader:\n",
    "        followers_count = int(row['followers'])\n",
    "        public_repos_count = int(row['public_repos'])\n",
    "        followers.append(followers_count)\n",
    "        public_repos.append(public_repos_count)\n",
    "if len(followers) > 1 and len(public_repos) > 1:\n",
    "    slope, intercept = np.polyfit(public_repos, followers, 1)\n",
    "    \n",
    "    print(f\"{slope:.3f}\")\n",
    "else:\n",
    "    print(\"Error\")"
   ]
  },
  {
   "cell_type": "markdown",
   "id": "b1739602-5cef-48d6-a3ef-3ecc1d12f405",
   "metadata": {},
   "source": [
    "#### Q11. Do people typically enable projects and wikis together? What is the correlation between a repo having projects enabled and having wiki enabled?"
   ]
  },
  {
   "cell_type": "code",
   "execution_count": 52,
   "id": "e680160d-cfa3-42ef-be27-55a772b77171",
   "metadata": {},
   "outputs": [
    {
     "name": "stdout",
     "output_type": "stream",
     "text": [
      "0.171\n"
     ]
    }
   ],
   "source": [
    "if repos['has_projects'].dtype == 'object':\n",
    "    repos['has_projects'] = repos['has_projects'].map({'true': True, 'false': False})\n",
    "if repos['has_wiki'].dtype == 'object':\n",
    "    repos['has_wiki'] = repos['has_wiki'].map({'true': True, 'false': False})\n",
    "    \n",
    "correlation = repos['has_projects'].corr(repos['has_wiki'])\n",
    "    \n",
    "print(round(correlation, 3))"
   ]
  },
  {
   "cell_type": "markdown",
   "id": "7d1c5de4-b714-46e2-af6a-ad41e8a42f8f",
   "metadata": {},
   "source": [
    "#### Q12. Do hireable users follow more people than those who are not hireable?"
   ]
  },
  {
   "cell_type": "code",
   "execution_count": 53,
   "id": "cd51bed6-bba7-4407-94a9-ccc5e3968b4d",
   "metadata": {},
   "outputs": [
    {
     "data": {
      "text/plain": [
       "np.float64(8.66654007756948)"
      ]
     },
     "execution_count": 53,
     "metadata": {},
     "output_type": "execute_result"
    }
   ],
   "source": [
    "hireable_avg_following = users[users['hireable'] == True]['following'].mean()\n",
    "non_hireable_avg_following = users[users['hireable'] == False]['following'].mean()\n",
    "difference = hireable_avg_following - non_hireable_avg_following\n",
    "difference"
   ]
  },
  {
   "cell_type": "markdown",
   "id": "1f30dbcf-90f2-4531-b37c-0386828e1f9f",
   "metadata": {},
   "source": [
    "#### Q13. Some developers write long bios. Does that help them get more followers? What's the correlation of the length of their bio (in Unicode characters) with followers? (Ignore people without bios)"
   ]
  },
  {
   "cell_type": "code",
   "execution_count": 54,
   "id": "9d4b0927",
   "metadata": {},
   "outputs": [
    {
     "name": "stdout",
     "output_type": "stream",
     "text": [
      "Defaulting to user installation because normal site-packages is not writeable\n",
      "Note: you may need to restart the kernel to use updated packages.\n"
     ]
    },
    {
     "name": "stderr",
     "output_type": "stream",
     "text": [
      "ERROR: Could not find a version that satisfies the requirement statsmodels.api (from versions: none)\n",
      "\n",
      "[notice] A new release of pip is available: 24.2 -> 24.3.1\n",
      "[notice] To update, run: C:\\Users\\admin\\AppData\\Local\\Microsoft\\WindowsApps\\PythonSoftwareFoundation.Python.3.12_qbz5n2kfra8p0\\python.exe -m pip install --upgrade pip\n",
      "ERROR: No matching distribution found for statsmodels.api\n"
     ]
    }
   ],
   "source": [
    "pip install statsmodels.api"
   ]
  },
  {
   "cell_type": "code",
   "execution_count": 55,
   "id": "a324c8b4-9faf-4f4d-9c3d-0813e6bdbfb8",
   "metadata": {},
   "outputs": [
    {
     "ename": "ModuleNotFoundError",
     "evalue": "No module named 'sklearn'",
     "output_type": "error",
     "traceback": [
      "\u001b[1;31m---------------------------------------------------------------------------\u001b[0m",
      "\u001b[1;31mModuleNotFoundError\u001b[0m                       Traceback (most recent call last)",
      "Cell \u001b[1;32mIn[55], line 1\u001b[0m\n\u001b[1;32m----> 1\u001b[0m \u001b[38;5;28;01mfrom\u001b[39;00m \u001b[38;5;21;01msklearn\u001b[39;00m\u001b[38;5;21;01m.\u001b[39;00m\u001b[38;5;21;01mlinear_model\u001b[39;00m \u001b[38;5;28;01mimport\u001b[39;00m LinearRegression\n\u001b[0;32m      2\u001b[0m users_with_bio \u001b[38;5;241m=\u001b[39m users[(users[\u001b[38;5;124m'\u001b[39m\u001b[38;5;124mbio\u001b[39m\u001b[38;5;124m'\u001b[39m]\u001b[38;5;241m.\u001b[39mnotna()) \u001b[38;5;241m&\u001b[39m (users[\u001b[38;5;124m'\u001b[39m\u001b[38;5;124mbio\u001b[39m\u001b[38;5;124m'\u001b[39m] \u001b[38;5;241m!=\u001b[39m \u001b[38;5;124m'\u001b[39m\u001b[38;5;124m'\u001b[39m)]\u001b[38;5;241m.\u001b[39mcopy()\n\u001b[0;32m      3\u001b[0m users_with_bio\u001b[38;5;241m.\u001b[39mloc[:, \u001b[38;5;124m'\u001b[39m\u001b[38;5;124mbio_len\u001b[39m\u001b[38;5;124m'\u001b[39m] \u001b[38;5;241m=\u001b[39m users_with_bio[\u001b[38;5;124m'\u001b[39m\u001b[38;5;124mbio\u001b[39m\u001b[38;5;124m'\u001b[39m]\u001b[38;5;241m.\u001b[39mstr\u001b[38;5;241m.\u001b[39mlen()\n",
      "\u001b[1;31mModuleNotFoundError\u001b[0m: No module named 'sklearn'"
     ]
    }
   ],
   "source": [
    "from sklearn.linear_model import LinearRegression\n",
    "users_with_bio = users[(users['bio'].notna()) & (users['bio'] != '')].copy()\n",
    "users_with_bio.loc[:, 'bio_len'] = users_with_bio['bio'].str.len()\n",
    "\n",
    "X = users_with_bio['bio_len'].values.reshape(-1,1)\n",
    "y = users_with_bio['followers']\n",
    "\n",
    "lr2 = LinearRegression()\n",
    "lr2.fit(X, y)\n",
    "lr2.coef_[0]"
   ]
  },
  {
   "cell_type": "code",
   "execution_count": null,
   "id": "04d417b4",
   "metadata": {},
   "outputs": [],
   "source": []
  },
  {
   "cell_type": "markdown",
   "id": "96cb22e4-4046-40cf-9be5-06f096b0f0c3",
   "metadata": {},
   "source": [
    "#### Q14. Who created the most repositories on weekends (UTC)? List the top 5 users' login in order, comma-separated"
   ]
  },
  {
   "cell_type": "code",
   "execution_count": null,
   "id": "ab49dafe-2981-4fe1-b603-0bee0e61e04f",
   "metadata": {},
   "outputs": [
    {
     "name": "stdout",
     "output_type": "stream",
     "text": [
      "marcossegovia,tbreuss,ioolkos,BaselHack,maysam\n"
     ]
    }
   ],
   "source": [
    "import csv\n",
    "from collections import Counter\n",
    "from datetime import datetime\n",
    "\n",
    "weekend_repo_counts = Counter()\n",
    "\n",
    "with open('repositories.csv', 'r', encoding='utf-8') as file:\n",
    "    reader = csv.DictReader(file)\n",
    "    \n",
    "    for row in reader:\n",
    "        created_at = row.get('created_at', '')\n",
    "        if created_at:\n",
    "            created_date = datetime.fromisoformat(created_at[:-1])  \n",
    "            \n",
    "            if created_date.weekday() in [5, 6]:\n",
    "                user_login = row['login']\n",
    "                weekend_repo_counts[user_login] += 1  \n",
    "\n",
    "top_users = weekend_repo_counts.most_common(5)\n",
    "\n",
    "top_logins = [user[0] for user in top_users]\n",
    "\n",
    "print(','.join(top_logins))"
   ]
  },
  {
   "cell_type": "markdown",
   "id": "6d9da60a-2ff0-4421-808e-ab9a74bf02fb",
   "metadata": {},
   "source": [
    "#### Q15. Do people who are hireable share their email addresses more often?"
   ]
  },
  {
   "cell_type": "code",
   "execution_count": null,
   "id": "b8381831-d1ed-4855-afc2-97ad1c06a1af",
   "metadata": {},
   "outputs": [
    {
     "data": {
      "text/plain": [
       "0.05140238515901058"
      ]
     },
     "execution_count": 21,
     "metadata": {},
     "output_type": "execute_result"
    }
   ],
   "source": [
    "fraction_hierable = users[users['hireable'] == True]['email'].notna().mean()\n",
    "fraction_non_hierable = users[users['hireable'] == False]['email'].notna().mean()\n",
    "diff = fraction_hierable - fraction_non_hierable\n",
    "diff"
   ]
  },
  {
   "cell_type": "markdown",
   "id": "806a227e-1285-4c5f-bb05-867a3fd5101a",
   "metadata": {},
   "source": [
    "#### Q16. Let's assume that the last word in a user's name is their surname (ignore missing names, trim and split by whitespace.) What's the most common surname? (If there's a tie, list them all, comma-separated, alphabetically)"
   ]
  },
  {
   "cell_type": "code",
   "execution_count": null,
   "id": "01a24dfb-05cc-4528-b118-558b2307639c",
   "metadata": {},
   "outputs": [
    {
     "name": "stdout",
     "output_type": "stream",
     "text": [
      "Arnold,Brand,Christensen,Fink,GmbH,Group,Guggisberg,Landolt,Roth,Tan\n"
     ]
    }
   ],
   "source": [
    "new_users = users[users['name'].notna()].copy()\n",
    "new_users['surname'] = new_users['name'].str.split().str[-1].str.strip()\n",
    "surname_counts = new_users['surname'].value_counts()\n",
    "max_count = surname_counts.max()\n",
    "common_surnames = surname_counts[surname_counts == max_count].index.tolist()\n",
    "common_surnames.sort()\n",
    "print(','.join(common_surnames))"
   ]
  }
 ],
 "metadata": {
  "kernelspec": {
   "display_name": "Python 3",
   "language": "python",
   "name": "python3"
  },
  "language_info": {
   "codemirror_mode": {
    "name": "ipython",
    "version": 3
   },
   "file_extension": ".py",
   "mimetype": "text/x-python",
   "name": "python",
   "nbconvert_exporter": "python",
   "pygments_lexer": "ipython3",
   "version": "3.12.7"
  }
 },
 "nbformat": 4,
 "nbformat_minor": 5
}
