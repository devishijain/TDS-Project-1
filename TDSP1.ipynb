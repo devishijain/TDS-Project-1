{
  "cells": [
    {
      "cell_type": "code",
      "execution_count": 1,
      "id": "17871c8c-d5b7-4881-8fb2-c3f084deec73",
      "metadata": {
        "id": "17871c8c-d5b7-4881-8fb2-c3f084deec73"
      },
      "outputs": [],
      "source": [
        "import pandas as pd\n",
        "import numpy as np\n",
        "import matplotlib.pyplot as plt"
      ]
    },
    {
      "cell_type": "markdown",
      "id": "7108a27f-97e8-4871-ae8d-c4c53a47dfe9",
      "metadata": {
        "id": "7108a27f-97e8-4871-ae8d-c4c53a47dfe9"
      },
      "source": [
        "#### Q1.  Who are the top 5 users in Basel with the highest number of followers? List their login in order, comma-separated"
      ]
    },
    {
      "cell_type": "code",
      "execution_count": 4,
      "id": "4259def7-3934-411b-b441-64d7d24bd92c",
      "metadata": {
        "colab": {
          "base_uri": "https://localhost:8080/",
          "height": 293
        },
        "id": "4259def7-3934-411b-b441-64d7d24bd92c",
        "outputId": "52d8fc73-2402-417c-c88a-c120a8a77663"
      },
      "outputs": [
        {
          "output_type": "execute_result",
          "data": {
            "text/plain": [
              "                login                 name         company       location  \\\n",
              "0  ValentineFernandes  Valentine Fernandes             NaN  Mumbai, India   \n",
              "1          kovidgoyal          Kovid Goyal             NaN  Mumbai, India   \n",
              "2           slidenerd            slidenerd       SLIDENERD         Mumbai   \n",
              "3          aryashah2k            Arya Shah         OPENAOD  Mumbai, India   \n",
              "4       coding-parrot           Gaurav Sen  INTERVIEWREADY  Mumbai, India   \n",
              "\n",
              "                 email hireable  \\\n",
              "0                  NaN      NaN   \n",
              "1                  NaN      NaN   \n",
              "2  slidenerd@gmail.com     True   \n",
              "3                  NaN      NaN   \n",
              "4                  NaN      NaN   \n",
              "\n",
              "                                                 bio  public_repos  followers  \\\n",
              "0          HTML |  CSS |  JS  |  SQL |  MYSQL | JAVA            66       5251   \n",
              "1           Principal developer of calibre and kitty            37       4298   \n",
              "2  Bots, AI, advanced web frameworks, ohlc applic...           113       3167   \n",
              "3  Computer Science Major | Machine Learning | So...            88       2601   \n",
              "4                              CEO of InterviewReady            11       2417   \n",
              "\n",
              "   following            created_at  \n",
              "0       5275  2022-01-29T08:11:37Z  \n",
              "1          0  2012-01-06T05:38:24Z  \n",
              "2          1  2013-08-01T14:17:19Z  \n",
              "3       2583  2020-11-03T03:06:19Z  \n",
              "4          0  2020-01-03T14:13:35Z  "
            ],
            "text/html": [
              "\n",
              "  <div id=\"df-7e7b9c2c-c339-40e8-af50-8cd57b2d96b5\" class=\"colab-df-container\">\n",
              "    <div>\n",
              "<style scoped>\n",
              "    .dataframe tbody tr th:only-of-type {\n",
              "        vertical-align: middle;\n",
              "    }\n",
              "\n",
              "    .dataframe tbody tr th {\n",
              "        vertical-align: top;\n",
              "    }\n",
              "\n",
              "    .dataframe thead th {\n",
              "        text-align: right;\n",
              "    }\n",
              "</style>\n",
              "<table border=\"1\" class=\"dataframe\">\n",
              "  <thead>\n",
              "    <tr style=\"text-align: right;\">\n",
              "      <th></th>\n",
              "      <th>login</th>\n",
              "      <th>name</th>\n",
              "      <th>company</th>\n",
              "      <th>location</th>\n",
              "      <th>email</th>\n",
              "      <th>hireable</th>\n",
              "      <th>bio</th>\n",
              "      <th>public_repos</th>\n",
              "      <th>followers</th>\n",
              "      <th>following</th>\n",
              "      <th>created_at</th>\n",
              "    </tr>\n",
              "  </thead>\n",
              "  <tbody>\n",
              "    <tr>\n",
              "      <th>0</th>\n",
              "      <td>ValentineFernandes</td>\n",
              "      <td>Valentine Fernandes</td>\n",
              "      <td>NaN</td>\n",
              "      <td>Mumbai, India</td>\n",
              "      <td>NaN</td>\n",
              "      <td>NaN</td>\n",
              "      <td>HTML |  CSS |  JS  |  SQL |  MYSQL | JAVA</td>\n",
              "      <td>66</td>\n",
              "      <td>5251</td>\n",
              "      <td>5275</td>\n",
              "      <td>2022-01-29T08:11:37Z</td>\n",
              "    </tr>\n",
              "    <tr>\n",
              "      <th>1</th>\n",
              "      <td>kovidgoyal</td>\n",
              "      <td>Kovid Goyal</td>\n",
              "      <td>NaN</td>\n",
              "      <td>Mumbai, India</td>\n",
              "      <td>NaN</td>\n",
              "      <td>NaN</td>\n",
              "      <td>Principal developer of calibre and kitty</td>\n",
              "      <td>37</td>\n",
              "      <td>4298</td>\n",
              "      <td>0</td>\n",
              "      <td>2012-01-06T05:38:24Z</td>\n",
              "    </tr>\n",
              "    <tr>\n",
              "      <th>2</th>\n",
              "      <td>slidenerd</td>\n",
              "      <td>slidenerd</td>\n",
              "      <td>SLIDENERD</td>\n",
              "      <td>Mumbai</td>\n",
              "      <td>slidenerd@gmail.com</td>\n",
              "      <td>True</td>\n",
              "      <td>Bots, AI, advanced web frameworks, ohlc applic...</td>\n",
              "      <td>113</td>\n",
              "      <td>3167</td>\n",
              "      <td>1</td>\n",
              "      <td>2013-08-01T14:17:19Z</td>\n",
              "    </tr>\n",
              "    <tr>\n",
              "      <th>3</th>\n",
              "      <td>aryashah2k</td>\n",
              "      <td>Arya Shah</td>\n",
              "      <td>OPENAOD</td>\n",
              "      <td>Mumbai, India</td>\n",
              "      <td>NaN</td>\n",
              "      <td>NaN</td>\n",
              "      <td>Computer Science Major | Machine Learning | So...</td>\n",
              "      <td>88</td>\n",
              "      <td>2601</td>\n",
              "      <td>2583</td>\n",
              "      <td>2020-11-03T03:06:19Z</td>\n",
              "    </tr>\n",
              "    <tr>\n",
              "      <th>4</th>\n",
              "      <td>coding-parrot</td>\n",
              "      <td>Gaurav Sen</td>\n",
              "      <td>INTERVIEWREADY</td>\n",
              "      <td>Mumbai, India</td>\n",
              "      <td>NaN</td>\n",
              "      <td>NaN</td>\n",
              "      <td>CEO of InterviewReady</td>\n",
              "      <td>11</td>\n",
              "      <td>2417</td>\n",
              "      <td>0</td>\n",
              "      <td>2020-01-03T14:13:35Z</td>\n",
              "    </tr>\n",
              "  </tbody>\n",
              "</table>\n",
              "</div>\n",
              "    <div class=\"colab-df-buttons\">\n",
              "\n",
              "  <div class=\"colab-df-container\">\n",
              "    <button class=\"colab-df-convert\" onclick=\"convertToInteractive('df-7e7b9c2c-c339-40e8-af50-8cd57b2d96b5')\"\n",
              "            title=\"Convert this dataframe to an interactive table.\"\n",
              "            style=\"display:none;\">\n",
              "\n",
              "  <svg xmlns=\"http://www.w3.org/2000/svg\" height=\"24px\" viewBox=\"0 -960 960 960\">\n",
              "    <path d=\"M120-120v-720h720v720H120Zm60-500h600v-160H180v160Zm220 220h160v-160H400v160Zm0 220h160v-160H400v160ZM180-400h160v-160H180v160Zm440 0h160v-160H620v160ZM180-180h160v-160H180v160Zm440 0h160v-160H620v160Z\"/>\n",
              "  </svg>\n",
              "    </button>\n",
              "\n",
              "  <style>\n",
              "    .colab-df-container {\n",
              "      display:flex;\n",
              "      gap: 12px;\n",
              "    }\n",
              "\n",
              "    .colab-df-convert {\n",
              "      background-color: #E8F0FE;\n",
              "      border: none;\n",
              "      border-radius: 50%;\n",
              "      cursor: pointer;\n",
              "      display: none;\n",
              "      fill: #1967D2;\n",
              "      height: 32px;\n",
              "      padding: 0 0 0 0;\n",
              "      width: 32px;\n",
              "    }\n",
              "\n",
              "    .colab-df-convert:hover {\n",
              "      background-color: #E2EBFA;\n",
              "      box-shadow: 0px 1px 2px rgba(60, 64, 67, 0.3), 0px 1px 3px 1px rgba(60, 64, 67, 0.15);\n",
              "      fill: #174EA6;\n",
              "    }\n",
              "\n",
              "    .colab-df-buttons div {\n",
              "      margin-bottom: 4px;\n",
              "    }\n",
              "\n",
              "    [theme=dark] .colab-df-convert {\n",
              "      background-color: #3B4455;\n",
              "      fill: #D2E3FC;\n",
              "    }\n",
              "\n",
              "    [theme=dark] .colab-df-convert:hover {\n",
              "      background-color: #434B5C;\n",
              "      box-shadow: 0px 1px 3px 1px rgba(0, 0, 0, 0.15);\n",
              "      filter: drop-shadow(0px 1px 2px rgba(0, 0, 0, 0.3));\n",
              "      fill: #FFFFFF;\n",
              "    }\n",
              "  </style>\n",
              "\n",
              "    <script>\n",
              "      const buttonEl =\n",
              "        document.querySelector('#df-7e7b9c2c-c339-40e8-af50-8cd57b2d96b5 button.colab-df-convert');\n",
              "      buttonEl.style.display =\n",
              "        google.colab.kernel.accessAllowed ? 'block' : 'none';\n",
              "\n",
              "      async function convertToInteractive(key) {\n",
              "        const element = document.querySelector('#df-7e7b9c2c-c339-40e8-af50-8cd57b2d96b5');\n",
              "        const dataTable =\n",
              "          await google.colab.kernel.invokeFunction('convertToInteractive',\n",
              "                                                    [key], {});\n",
              "        if (!dataTable) return;\n",
              "\n",
              "        const docLinkHtml = 'Like what you see? Visit the ' +\n",
              "          '<a target=\"_blank\" href=https://colab.research.google.com/notebooks/data_table.ipynb>data table notebook</a>'\n",
              "          + ' to learn more about interactive tables.';\n",
              "        element.innerHTML = '';\n",
              "        dataTable['output_type'] = 'display_data';\n",
              "        await google.colab.output.renderOutput(dataTable, element);\n",
              "        const docLink = document.createElement('div');\n",
              "        docLink.innerHTML = docLinkHtml;\n",
              "        element.appendChild(docLink);\n",
              "      }\n",
              "    </script>\n",
              "  </div>\n",
              "\n",
              "\n",
              "<div id=\"df-6f33daad-b787-4555-965c-ada81133062a\">\n",
              "  <button class=\"colab-df-quickchart\" onclick=\"quickchart('df-6f33daad-b787-4555-965c-ada81133062a')\"\n",
              "            title=\"Suggest charts\"\n",
              "            style=\"display:none;\">\n",
              "\n",
              "<svg xmlns=\"http://www.w3.org/2000/svg\" height=\"24px\"viewBox=\"0 0 24 24\"\n",
              "     width=\"24px\">\n",
              "    <g>\n",
              "        <path d=\"M19 3H5c-1.1 0-2 .9-2 2v14c0 1.1.9 2 2 2h14c1.1 0 2-.9 2-2V5c0-1.1-.9-2-2-2zM9 17H7v-7h2v7zm4 0h-2V7h2v10zm4 0h-2v-4h2v4z\"/>\n",
              "    </g>\n",
              "</svg>\n",
              "  </button>\n",
              "\n",
              "<style>\n",
              "  .colab-df-quickchart {\n",
              "      --bg-color: #E8F0FE;\n",
              "      --fill-color: #1967D2;\n",
              "      --hover-bg-color: #E2EBFA;\n",
              "      --hover-fill-color: #174EA6;\n",
              "      --disabled-fill-color: #AAA;\n",
              "      --disabled-bg-color: #DDD;\n",
              "  }\n",
              "\n",
              "  [theme=dark] .colab-df-quickchart {\n",
              "      --bg-color: #3B4455;\n",
              "      --fill-color: #D2E3FC;\n",
              "      --hover-bg-color: #434B5C;\n",
              "      --hover-fill-color: #FFFFFF;\n",
              "      --disabled-bg-color: #3B4455;\n",
              "      --disabled-fill-color: #666;\n",
              "  }\n",
              "\n",
              "  .colab-df-quickchart {\n",
              "    background-color: var(--bg-color);\n",
              "    border: none;\n",
              "    border-radius: 50%;\n",
              "    cursor: pointer;\n",
              "    display: none;\n",
              "    fill: var(--fill-color);\n",
              "    height: 32px;\n",
              "    padding: 0;\n",
              "    width: 32px;\n",
              "  }\n",
              "\n",
              "  .colab-df-quickchart:hover {\n",
              "    background-color: var(--hover-bg-color);\n",
              "    box-shadow: 0 1px 2px rgba(60, 64, 67, 0.3), 0 1px 3px 1px rgba(60, 64, 67, 0.15);\n",
              "    fill: var(--button-hover-fill-color);\n",
              "  }\n",
              "\n",
              "  .colab-df-quickchart-complete:disabled,\n",
              "  .colab-df-quickchart-complete:disabled:hover {\n",
              "    background-color: var(--disabled-bg-color);\n",
              "    fill: var(--disabled-fill-color);\n",
              "    box-shadow: none;\n",
              "  }\n",
              "\n",
              "  .colab-df-spinner {\n",
              "    border: 2px solid var(--fill-color);\n",
              "    border-color: transparent;\n",
              "    border-bottom-color: var(--fill-color);\n",
              "    animation:\n",
              "      spin 1s steps(1) infinite;\n",
              "  }\n",
              "\n",
              "  @keyframes spin {\n",
              "    0% {\n",
              "      border-color: transparent;\n",
              "      border-bottom-color: var(--fill-color);\n",
              "      border-left-color: var(--fill-color);\n",
              "    }\n",
              "    20% {\n",
              "      border-color: transparent;\n",
              "      border-left-color: var(--fill-color);\n",
              "      border-top-color: var(--fill-color);\n",
              "    }\n",
              "    30% {\n",
              "      border-color: transparent;\n",
              "      border-left-color: var(--fill-color);\n",
              "      border-top-color: var(--fill-color);\n",
              "      border-right-color: var(--fill-color);\n",
              "    }\n",
              "    40% {\n",
              "      border-color: transparent;\n",
              "      border-right-color: var(--fill-color);\n",
              "      border-top-color: var(--fill-color);\n",
              "    }\n",
              "    60% {\n",
              "      border-color: transparent;\n",
              "      border-right-color: var(--fill-color);\n",
              "    }\n",
              "    80% {\n",
              "      border-color: transparent;\n",
              "      border-right-color: var(--fill-color);\n",
              "      border-bottom-color: var(--fill-color);\n",
              "    }\n",
              "    90% {\n",
              "      border-color: transparent;\n",
              "      border-bottom-color: var(--fill-color);\n",
              "    }\n",
              "  }\n",
              "</style>\n",
              "\n",
              "  <script>\n",
              "    async function quickchart(key) {\n",
              "      const quickchartButtonEl =\n",
              "        document.querySelector('#' + key + ' button');\n",
              "      quickchartButtonEl.disabled = true;  // To prevent multiple clicks.\n",
              "      quickchartButtonEl.classList.add('colab-df-spinner');\n",
              "      try {\n",
              "        const charts = await google.colab.kernel.invokeFunction(\n",
              "            'suggestCharts', [key], {});\n",
              "      } catch (error) {\n",
              "        console.error('Error during call to suggestCharts:', error);\n",
              "      }\n",
              "      quickchartButtonEl.classList.remove('colab-df-spinner');\n",
              "      quickchartButtonEl.classList.add('colab-df-quickchart-complete');\n",
              "    }\n",
              "    (() => {\n",
              "      let quickchartButtonEl =\n",
              "        document.querySelector('#df-6f33daad-b787-4555-965c-ada81133062a button');\n",
              "      quickchartButtonEl.style.display =\n",
              "        google.colab.kernel.accessAllowed ? 'block' : 'none';\n",
              "    })();\n",
              "  </script>\n",
              "</div>\n",
              "\n",
              "    </div>\n",
              "  </div>\n"
            ],
            "application/vnd.google.colaboratory.intrinsic+json": {
              "type": "dataframe",
              "variable_name": "users",
              "summary": "{\n  \"name\": \"users\",\n  \"rows\": 727,\n  \"fields\": [\n    {\n      \"column\": \"login\",\n      \"properties\": {\n        \"dtype\": \"string\",\n        \"num_unique_values\": 727,\n        \"samples\": [\n          \"soham2710\",\n          \"koolgax99\",\n          \"rajrajhans\"\n        ],\n        \"semantic_type\": \"\",\n        \"description\": \"\"\n      }\n    },\n    {\n      \"column\": \"name\",\n      \"properties\": {\n        \"dtype\": \"string\",\n        \"num_unique_values\": 714,\n        \"samples\": [\n          \"Subham Surana\",\n          \"Rahil Shaikh\",\n          \"Suraj Upadhyay\"\n        ],\n        \"semantic_type\": \"\",\n        \"description\": \"\"\n      }\n    },\n    {\n      \"column\": \"company\",\n      \"properties\": {\n        \"dtype\": \"category\",\n        \"num_unique_values\": 337,\n        \"samples\": [\n          \"ZESTMONEY\",\n          \"CONNECTWISE\",\n          \"MATICNETWORK\"\n        ],\n        \"semantic_type\": \"\",\n        \"description\": \"\"\n      }\n    },\n    {\n      \"column\": \"location\",\n      \"properties\": {\n        \"dtype\": \"category\",\n        \"num_unique_values\": 114,\n        \"samples\": [\n          \"Mumbai / Bangalore\",\n          \"Navi Mumbai, India\",\n          \"Mumbai,Bharat\"\n        ],\n        \"semantic_type\": \"\",\n        \"description\": \"\"\n      }\n    },\n    {\n      \"column\": \"email\",\n      \"properties\": {\n        \"dtype\": \"category\",\n        \"num_unique_values\": 334,\n        \"samples\": [\n          \"tejasmedade@gmail.com\",\n          \"pupalerushikesh@gmail.com\",\n          \"vikas@v1k45.com\"\n        ],\n        \"semantic_type\": \"\",\n        \"description\": \"\"\n      }\n    },\n    {\n      \"column\": \"hireable\",\n      \"properties\": {\n        \"dtype\": \"category\",\n        \"num_unique_values\": 1,\n        \"samples\": [\n          true\n        ],\n        \"semantic_type\": \"\",\n        \"description\": \"\"\n      }\n    },\n    {\n      \"column\": \"bio\",\n      \"properties\": {\n        \"dtype\": \"string\",\n        \"num_unique_values\": 633,\n        \"samples\": [\n          \"An avid reader who is always trying to learn concepts and best practices which should be followed while programming.\\r\\nhttps://medium.com/@VivekNayyar\"\n        ],\n        \"semantic_type\": \"\",\n        \"description\": \"\"\n      }\n    },\n    {\n      \"column\": \"public_repos\",\n      \"properties\": {\n        \"dtype\": \"number\",\n        \"std\": 114,\n        \"min\": 0,\n        \"max\": 2499,\n        \"num_unique_values\": 161,\n        \"samples\": [\n          90\n        ],\n        \"semantic_type\": \"\",\n        \"description\": \"\"\n      }\n    },\n    {\n      \"column\": \"followers\",\n      \"properties\": {\n        \"dtype\": \"number\",\n        \"std\": 335,\n        \"min\": 51,\n        \"max\": 5251,\n        \"num_unique_values\": 218,\n        \"samples\": [\n          179\n        ],\n        \"semantic_type\": \"\",\n        \"description\": \"\"\n      }\n    },\n    {\n      \"column\": \"following\",\n      \"properties\": {\n        \"dtype\": \"number\",\n        \"std\": 478,\n        \"min\": 0,\n        \"max\": 9058,\n        \"num_unique_values\": 231,\n        \"samples\": [\n          401\n        ],\n        \"semantic_type\": \"\",\n        \"description\": \"\"\n      }\n    },\n    {\n      \"column\": \"created_at\",\n      \"properties\": {\n        \"dtype\": \"object\",\n        \"num_unique_values\": 726,\n        \"samples\": [\n          \"2021-09-17T10:44:40Z\"\n        ],\n        \"semantic_type\": \"\",\n        \"description\": \"\"\n      }\n    }\n  ]\n}"
            }
          },
          "metadata": {},
          "execution_count": 4
        }
      ],
      "source": [
        "users = pd.read_csv('users.csv')\n",
        "users.head()"
      ]
    },
    {
      "cell_type": "code",
      "execution_count": 6,
      "id": "f37b7348-3978-4355-948f-8b87845756c0",
      "metadata": {
        "id": "f37b7348-3978-4355-948f-8b87845756c0"
      },
      "outputs": [],
      "source": [
        "users['hireable'] = users['hireable'].fillna(False).astype(bool)"
      ]
    },
    {
      "cell_type": "code",
      "execution_count": 7,
      "id": "a14993f9-48d3-4956-9cca-d4349c30f649",
      "metadata": {
        "colab": {
          "base_uri": "https://localhost:8080/"
        },
        "id": "a14993f9-48d3-4956-9cca-d4349c30f649",
        "outputId": "22498119-ec03-4337-98d5-3bcce965b066"
      },
      "outputs": [
        {
          "output_type": "stream",
          "name": "stdout",
          "text": [
            "ValentineFernandes,kovidgoyal,slidenerd,aryashah2k,coding-parrot\n"
          ]
        }
      ],
      "source": [
        "top5 = users.sort_values(by='followers', ascending=False).head()\n",
        "print(','.join(top5['login'].tolist()))"
      ]
    },
    {
      "cell_type": "markdown",
      "id": "6cc86ddb-88c3-453c-bf56-29614358b62e",
      "metadata": {
        "id": "6cc86ddb-88c3-453c-bf56-29614358b62e"
      },
      "source": [
        "#### Q2. Who are the 5 earliest registered GitHub users in Basel? List their login in ascending order of created_at, comma-separated."
      ]
    },
    {
      "cell_type": "code",
      "execution_count": 8,
      "id": "afe79990-ccd3-4c8d-b184-45de1f19097c",
      "metadata": {
        "id": "afe79990-ccd3-4c8d-b184-45de1f19097c"
      },
      "outputs": [],
      "source": [
        "users['created_at'] = pd.to_datetime(users['created_at'])"
      ]
    },
    {
      "cell_type": "code",
      "execution_count": 9,
      "id": "f9645405-1745-4f06-9ba8-681b5c1e51b0",
      "metadata": {
        "colab": {
          "base_uri": "https://localhost:8080/"
        },
        "id": "f9645405-1745-4f06-9ba8-681b5c1e51b0",
        "outputId": "9eda72c1-2061-4ea4-c1b1-5eb9e9827784"
      },
      "outputs": [
        {
          "output_type": "stream",
          "name": "stdout",
          "text": [
            "ivank,sandeepshetty,svs,nitinhayaran,nischal\n"
          ]
        }
      ],
      "source": [
        "top_earliest = users.sort_values(by='created_at').head()\n",
        "print(','.join(top_earliest['login'].tolist()))"
      ]
    },
    {
      "cell_type": "markdown",
      "id": "1675cbcf-6a8b-4af8-b24a-1372f68efd6b",
      "metadata": {
        "id": "1675cbcf-6a8b-4af8-b24a-1372f68efd6b"
      },
      "source": [
        "#### Q3. What are the 3 most popular license among these users? Ignore missing licenses. List the license_name in order, comma-separated."
      ]
    },
    {
      "cell_type": "code",
      "execution_count": 10,
      "id": "a139a9a8-9ded-4175-b023-fe871850f3a4",
      "metadata": {
        "colab": {
          "base_uri": "https://localhost:8080/",
          "height": 206
        },
        "id": "a139a9a8-9ded-4175-b023-fe871850f3a4",
        "outputId": "dbdd4420-c0f5-4722-bd84-1f4305b69819"
      },
      "outputs": [
        {
          "output_type": "execute_result",
          "data": {
            "text/plain": [
              "                login                                  full_name  \\\n",
              "0  ValentineFernandes         ValentineFernandes/Age-Calculator-   \n",
              "1  ValentineFernandes                ValentineFernandes/ASP.NET-   \n",
              "2  ValentineFernandes          ValentineFernandes/Assignment-4.2   \n",
              "3  ValentineFernandes  ValentineFernandes/Bank-Management-System   \n",
              "4  ValentineFernandes  ValentineFernandes/BMI-Calculator-Website   \n",
              "\n",
              "             created_at  stargazers_count  watchers_count language  \\\n",
              "0  2022-08-17T06:32:19Z                13              13      CSS   \n",
              "1  2022-04-26T10:12:11Z                18              18  ASP.NET   \n",
              "2  2022-04-14T11:55:25Z                15              15     HTML   \n",
              "3  2022-04-24T16:24:17Z                26              26        C   \n",
              "4  2022-08-17T04:47:27Z                11              11     HTML   \n",
              "\n",
              "   has_projects  has_wiki license_name  \n",
              "0          True      True          mit  \n",
              "1          True      True          NaN  \n",
              "2          True      True          NaN  \n",
              "3          True      True          NaN  \n",
              "4          True      True          mit  "
            ],
            "text/html": [
              "\n",
              "  <div id=\"df-293ca2b4-285f-4798-8658-ce95e1efac82\" class=\"colab-df-container\">\n",
              "    <div>\n",
              "<style scoped>\n",
              "    .dataframe tbody tr th:only-of-type {\n",
              "        vertical-align: middle;\n",
              "    }\n",
              "\n",
              "    .dataframe tbody tr th {\n",
              "        vertical-align: top;\n",
              "    }\n",
              "\n",
              "    .dataframe thead th {\n",
              "        text-align: right;\n",
              "    }\n",
              "</style>\n",
              "<table border=\"1\" class=\"dataframe\">\n",
              "  <thead>\n",
              "    <tr style=\"text-align: right;\">\n",
              "      <th></th>\n",
              "      <th>login</th>\n",
              "      <th>full_name</th>\n",
              "      <th>created_at</th>\n",
              "      <th>stargazers_count</th>\n",
              "      <th>watchers_count</th>\n",
              "      <th>language</th>\n",
              "      <th>has_projects</th>\n",
              "      <th>has_wiki</th>\n",
              "      <th>license_name</th>\n",
              "    </tr>\n",
              "  </thead>\n",
              "  <tbody>\n",
              "    <tr>\n",
              "      <th>0</th>\n",
              "      <td>ValentineFernandes</td>\n",
              "      <td>ValentineFernandes/Age-Calculator-</td>\n",
              "      <td>2022-08-17T06:32:19Z</td>\n",
              "      <td>13</td>\n",
              "      <td>13</td>\n",
              "      <td>CSS</td>\n",
              "      <td>True</td>\n",
              "      <td>True</td>\n",
              "      <td>mit</td>\n",
              "    </tr>\n",
              "    <tr>\n",
              "      <th>1</th>\n",
              "      <td>ValentineFernandes</td>\n",
              "      <td>ValentineFernandes/ASP.NET-</td>\n",
              "      <td>2022-04-26T10:12:11Z</td>\n",
              "      <td>18</td>\n",
              "      <td>18</td>\n",
              "      <td>ASP.NET</td>\n",
              "      <td>True</td>\n",
              "      <td>True</td>\n",
              "      <td>NaN</td>\n",
              "    </tr>\n",
              "    <tr>\n",
              "      <th>2</th>\n",
              "      <td>ValentineFernandes</td>\n",
              "      <td>ValentineFernandes/Assignment-4.2</td>\n",
              "      <td>2022-04-14T11:55:25Z</td>\n",
              "      <td>15</td>\n",
              "      <td>15</td>\n",
              "      <td>HTML</td>\n",
              "      <td>True</td>\n",
              "      <td>True</td>\n",
              "      <td>NaN</td>\n",
              "    </tr>\n",
              "    <tr>\n",
              "      <th>3</th>\n",
              "      <td>ValentineFernandes</td>\n",
              "      <td>ValentineFernandes/Bank-Management-System</td>\n",
              "      <td>2022-04-24T16:24:17Z</td>\n",
              "      <td>26</td>\n",
              "      <td>26</td>\n",
              "      <td>C</td>\n",
              "      <td>True</td>\n",
              "      <td>True</td>\n",
              "      <td>NaN</td>\n",
              "    </tr>\n",
              "    <tr>\n",
              "      <th>4</th>\n",
              "      <td>ValentineFernandes</td>\n",
              "      <td>ValentineFernandes/BMI-Calculator-Website</td>\n",
              "      <td>2022-08-17T04:47:27Z</td>\n",
              "      <td>11</td>\n",
              "      <td>11</td>\n",
              "      <td>HTML</td>\n",
              "      <td>True</td>\n",
              "      <td>True</td>\n",
              "      <td>mit</td>\n",
              "    </tr>\n",
              "  </tbody>\n",
              "</table>\n",
              "</div>\n",
              "    <div class=\"colab-df-buttons\">\n",
              "\n",
              "  <div class=\"colab-df-container\">\n",
              "    <button class=\"colab-df-convert\" onclick=\"convertToInteractive('df-293ca2b4-285f-4798-8658-ce95e1efac82')\"\n",
              "            title=\"Convert this dataframe to an interactive table.\"\n",
              "            style=\"display:none;\">\n",
              "\n",
              "  <svg xmlns=\"http://www.w3.org/2000/svg\" height=\"24px\" viewBox=\"0 -960 960 960\">\n",
              "    <path d=\"M120-120v-720h720v720H120Zm60-500h600v-160H180v160Zm220 220h160v-160H400v160Zm0 220h160v-160H400v160ZM180-400h160v-160H180v160Zm440 0h160v-160H620v160ZM180-180h160v-160H180v160Zm440 0h160v-160H620v160Z\"/>\n",
              "  </svg>\n",
              "    </button>\n",
              "\n",
              "  <style>\n",
              "    .colab-df-container {\n",
              "      display:flex;\n",
              "      gap: 12px;\n",
              "    }\n",
              "\n",
              "    .colab-df-convert {\n",
              "      background-color: #E8F0FE;\n",
              "      border: none;\n",
              "      border-radius: 50%;\n",
              "      cursor: pointer;\n",
              "      display: none;\n",
              "      fill: #1967D2;\n",
              "      height: 32px;\n",
              "      padding: 0 0 0 0;\n",
              "      width: 32px;\n",
              "    }\n",
              "\n",
              "    .colab-df-convert:hover {\n",
              "      background-color: #E2EBFA;\n",
              "      box-shadow: 0px 1px 2px rgba(60, 64, 67, 0.3), 0px 1px 3px 1px rgba(60, 64, 67, 0.15);\n",
              "      fill: #174EA6;\n",
              "    }\n",
              "\n",
              "    .colab-df-buttons div {\n",
              "      margin-bottom: 4px;\n",
              "    }\n",
              "\n",
              "    [theme=dark] .colab-df-convert {\n",
              "      background-color: #3B4455;\n",
              "      fill: #D2E3FC;\n",
              "    }\n",
              "\n",
              "    [theme=dark] .colab-df-convert:hover {\n",
              "      background-color: #434B5C;\n",
              "      box-shadow: 0px 1px 3px 1px rgba(0, 0, 0, 0.15);\n",
              "      filter: drop-shadow(0px 1px 2px rgba(0, 0, 0, 0.3));\n",
              "      fill: #FFFFFF;\n",
              "    }\n",
              "  </style>\n",
              "\n",
              "    <script>\n",
              "      const buttonEl =\n",
              "        document.querySelector('#df-293ca2b4-285f-4798-8658-ce95e1efac82 button.colab-df-convert');\n",
              "      buttonEl.style.display =\n",
              "        google.colab.kernel.accessAllowed ? 'block' : 'none';\n",
              "\n",
              "      async function convertToInteractive(key) {\n",
              "        const element = document.querySelector('#df-293ca2b4-285f-4798-8658-ce95e1efac82');\n",
              "        const dataTable =\n",
              "          await google.colab.kernel.invokeFunction('convertToInteractive',\n",
              "                                                    [key], {});\n",
              "        if (!dataTable) return;\n",
              "\n",
              "        const docLinkHtml = 'Like what you see? Visit the ' +\n",
              "          '<a target=\"_blank\" href=https://colab.research.google.com/notebooks/data_table.ipynb>data table notebook</a>'\n",
              "          + ' to learn more about interactive tables.';\n",
              "        element.innerHTML = '';\n",
              "        dataTable['output_type'] = 'display_data';\n",
              "        await google.colab.output.renderOutput(dataTable, element);\n",
              "        const docLink = document.createElement('div');\n",
              "        docLink.innerHTML = docLinkHtml;\n",
              "        element.appendChild(docLink);\n",
              "      }\n",
              "    </script>\n",
              "  </div>\n",
              "\n",
              "\n",
              "<div id=\"df-27a29820-561c-4a13-bd8e-db1743f9a5a2\">\n",
              "  <button class=\"colab-df-quickchart\" onclick=\"quickchart('df-27a29820-561c-4a13-bd8e-db1743f9a5a2')\"\n",
              "            title=\"Suggest charts\"\n",
              "            style=\"display:none;\">\n",
              "\n",
              "<svg xmlns=\"http://www.w3.org/2000/svg\" height=\"24px\"viewBox=\"0 0 24 24\"\n",
              "     width=\"24px\">\n",
              "    <g>\n",
              "        <path d=\"M19 3H5c-1.1 0-2 .9-2 2v14c0 1.1.9 2 2 2h14c1.1 0 2-.9 2-2V5c0-1.1-.9-2-2-2zM9 17H7v-7h2v7zm4 0h-2V7h2v10zm4 0h-2v-4h2v4z\"/>\n",
              "    </g>\n",
              "</svg>\n",
              "  </button>\n",
              "\n",
              "<style>\n",
              "  .colab-df-quickchart {\n",
              "      --bg-color: #E8F0FE;\n",
              "      --fill-color: #1967D2;\n",
              "      --hover-bg-color: #E2EBFA;\n",
              "      --hover-fill-color: #174EA6;\n",
              "      --disabled-fill-color: #AAA;\n",
              "      --disabled-bg-color: #DDD;\n",
              "  }\n",
              "\n",
              "  [theme=dark] .colab-df-quickchart {\n",
              "      --bg-color: #3B4455;\n",
              "      --fill-color: #D2E3FC;\n",
              "      --hover-bg-color: #434B5C;\n",
              "      --hover-fill-color: #FFFFFF;\n",
              "      --disabled-bg-color: #3B4455;\n",
              "      --disabled-fill-color: #666;\n",
              "  }\n",
              "\n",
              "  .colab-df-quickchart {\n",
              "    background-color: var(--bg-color);\n",
              "    border: none;\n",
              "    border-radius: 50%;\n",
              "    cursor: pointer;\n",
              "    display: none;\n",
              "    fill: var(--fill-color);\n",
              "    height: 32px;\n",
              "    padding: 0;\n",
              "    width: 32px;\n",
              "  }\n",
              "\n",
              "  .colab-df-quickchart:hover {\n",
              "    background-color: var(--hover-bg-color);\n",
              "    box-shadow: 0 1px 2px rgba(60, 64, 67, 0.3), 0 1px 3px 1px rgba(60, 64, 67, 0.15);\n",
              "    fill: var(--button-hover-fill-color);\n",
              "  }\n",
              "\n",
              "  .colab-df-quickchart-complete:disabled,\n",
              "  .colab-df-quickchart-complete:disabled:hover {\n",
              "    background-color: var(--disabled-bg-color);\n",
              "    fill: var(--disabled-fill-color);\n",
              "    box-shadow: none;\n",
              "  }\n",
              "\n",
              "  .colab-df-spinner {\n",
              "    border: 2px solid var(--fill-color);\n",
              "    border-color: transparent;\n",
              "    border-bottom-color: var(--fill-color);\n",
              "    animation:\n",
              "      spin 1s steps(1) infinite;\n",
              "  }\n",
              "\n",
              "  @keyframes spin {\n",
              "    0% {\n",
              "      border-color: transparent;\n",
              "      border-bottom-color: var(--fill-color);\n",
              "      border-left-color: var(--fill-color);\n",
              "    }\n",
              "    20% {\n",
              "      border-color: transparent;\n",
              "      border-left-color: var(--fill-color);\n",
              "      border-top-color: var(--fill-color);\n",
              "    }\n",
              "    30% {\n",
              "      border-color: transparent;\n",
              "      border-left-color: var(--fill-color);\n",
              "      border-top-color: var(--fill-color);\n",
              "      border-right-color: var(--fill-color);\n",
              "    }\n",
              "    40% {\n",
              "      border-color: transparent;\n",
              "      border-right-color: var(--fill-color);\n",
              "      border-top-color: var(--fill-color);\n",
              "    }\n",
              "    60% {\n",
              "      border-color: transparent;\n",
              "      border-right-color: var(--fill-color);\n",
              "    }\n",
              "    80% {\n",
              "      border-color: transparent;\n",
              "      border-right-color: var(--fill-color);\n",
              "      border-bottom-color: var(--fill-color);\n",
              "    }\n",
              "    90% {\n",
              "      border-color: transparent;\n",
              "      border-bottom-color: var(--fill-color);\n",
              "    }\n",
              "  }\n",
              "</style>\n",
              "\n",
              "  <script>\n",
              "    async function quickchart(key) {\n",
              "      const quickchartButtonEl =\n",
              "        document.querySelector('#' + key + ' button');\n",
              "      quickchartButtonEl.disabled = true;  // To prevent multiple clicks.\n",
              "      quickchartButtonEl.classList.add('colab-df-spinner');\n",
              "      try {\n",
              "        const charts = await google.colab.kernel.invokeFunction(\n",
              "            'suggestCharts', [key], {});\n",
              "      } catch (error) {\n",
              "        console.error('Error during call to suggestCharts:', error);\n",
              "      }\n",
              "      quickchartButtonEl.classList.remove('colab-df-spinner');\n",
              "      quickchartButtonEl.classList.add('colab-df-quickchart-complete');\n",
              "    }\n",
              "    (() => {\n",
              "      let quickchartButtonEl =\n",
              "        document.querySelector('#df-27a29820-561c-4a13-bd8e-db1743f9a5a2 button');\n",
              "      quickchartButtonEl.style.display =\n",
              "        google.colab.kernel.accessAllowed ? 'block' : 'none';\n",
              "    })();\n",
              "  </script>\n",
              "</div>\n",
              "\n",
              "    </div>\n",
              "  </div>\n"
            ],
            "application/vnd.google.colaboratory.intrinsic+json": {
              "type": "dataframe",
              "variable_name": "repos",
              "summary": "{\n  \"name\": \"repos\",\n  \"rows\": 35224,\n  \"fields\": [\n    {\n      \"column\": \"login\",\n      \"properties\": {\n        \"dtype\": \"category\",\n        \"num_unique_values\": 724,\n        \"samples\": [\n          \"MIDHUNTA30\",\n          \"dutiyesh\",\n          \"nilesh-patil\"\n        ],\n        \"semantic_type\": \"\",\n        \"description\": \"\"\n      }\n    },\n    {\n      \"column\": \"full_name\",\n      \"properties\": {\n        \"dtype\": \"string\",\n        \"num_unique_values\": 35224,\n        \"samples\": [\n          \"kharatramesh/ericsson6\",\n          \"BelieveC/DataStructureCPrograms\",\n          \"Elysian01/Data-Purifier-Dataset\"\n        ],\n        \"semantic_type\": \"\",\n        \"description\": \"\"\n      }\n    },\n    {\n      \"column\": \"created_at\",\n      \"properties\": {\n        \"dtype\": \"object\",\n        \"num_unique_values\": 35215,\n        \"samples\": [\n          \"2021-12-25T07:32:41Z\",\n          \"2014-10-20T06:40:52Z\",\n          \"2022-09-27T13:36:03Z\"\n        ],\n        \"semantic_type\": \"\",\n        \"description\": \"\"\n      }\n    },\n    {\n      \"column\": \"stargazers_count\",\n      \"properties\": {\n        \"dtype\": \"number\",\n        \"std\": 187,\n        \"min\": 0,\n        \"max\": 24405,\n        \"num_unique_values\": 273,\n        \"samples\": [\n          59,\n          52,\n          8032\n        ],\n        \"semantic_type\": \"\",\n        \"description\": \"\"\n      }\n    },\n    {\n      \"column\": \"watchers_count\",\n      \"properties\": {\n        \"dtype\": \"number\",\n        \"std\": 187,\n        \"min\": 0,\n        \"max\": 24405,\n        \"num_unique_values\": 273,\n        \"samples\": [\n          59,\n          52,\n          8032\n        ],\n        \"semantic_type\": \"\",\n        \"description\": \"\"\n      }\n    },\n    {\n      \"column\": \"language\",\n      \"properties\": {\n        \"dtype\": \"category\",\n        \"num_unique_values\": 135,\n        \"samples\": [\n          \"Emacs Lisp\",\n          \"Smarty\",\n          \"Visual Basic\"\n        ],\n        \"semantic_type\": \"\",\n        \"description\": \"\"\n      }\n    },\n    {\n      \"column\": \"has_projects\",\n      \"properties\": {\n        \"dtype\": \"boolean\",\n        \"num_unique_values\": 2,\n        \"samples\": [\n          false,\n          true\n        ],\n        \"semantic_type\": \"\",\n        \"description\": \"\"\n      }\n    },\n    {\n      \"column\": \"has_wiki\",\n      \"properties\": {\n        \"dtype\": \"boolean\",\n        \"num_unique_values\": 2,\n        \"samples\": [\n          false,\n          true\n        ],\n        \"semantic_type\": \"\",\n        \"description\": \"\"\n      }\n    },\n    {\n      \"column\": \"license_name\",\n      \"properties\": {\n        \"dtype\": \"category\",\n        \"num_unique_values\": 29,\n        \"samples\": [\n          \"postgresql\",\n          \"epl-2.0\"\n        ],\n        \"semantic_type\": \"\",\n        \"description\": \"\"\n      }\n    }\n  ]\n}"
            }
          },
          "metadata": {},
          "execution_count": 10
        }
      ],
      "source": [
        "repos = pd.read_csv('repositories.csv')\n",
        "repos.head()"
      ]
    },
    {
      "cell_type": "code",
      "execution_count": 11,
      "id": "f5b0a4ce-ae41-4066-a59a-58e81f27ad47",
      "metadata": {
        "colab": {
          "base_uri": "https://localhost:8080/",
          "height": 209
        },
        "id": "f5b0a4ce-ae41-4066-a59a-58e81f27ad47",
        "outputId": "48a44fb1-97b8-4b80-9d04-097cfcbd602a"
      },
      "outputs": [
        {
          "output_type": "execute_result",
          "data": {
            "text/plain": [
              "license_name\n",
              "mit           6398\n",
              "apache-2.0    1620\n",
              "other         1376\n",
              "Name: count, dtype: int64"
            ],
            "text/html": [
              "<div>\n",
              "<style scoped>\n",
              "    .dataframe tbody tr th:only-of-type {\n",
              "        vertical-align: middle;\n",
              "    }\n",
              "\n",
              "    .dataframe tbody tr th {\n",
              "        vertical-align: top;\n",
              "    }\n",
              "\n",
              "    .dataframe thead th {\n",
              "        text-align: right;\n",
              "    }\n",
              "</style>\n",
              "<table border=\"1\" class=\"dataframe\">\n",
              "  <thead>\n",
              "    <tr style=\"text-align: right;\">\n",
              "      <th></th>\n",
              "      <th>count</th>\n",
              "    </tr>\n",
              "    <tr>\n",
              "      <th>license_name</th>\n",
              "      <th></th>\n",
              "    </tr>\n",
              "  </thead>\n",
              "  <tbody>\n",
              "    <tr>\n",
              "      <th>mit</th>\n",
              "      <td>6398</td>\n",
              "    </tr>\n",
              "    <tr>\n",
              "      <th>apache-2.0</th>\n",
              "      <td>1620</td>\n",
              "    </tr>\n",
              "    <tr>\n",
              "      <th>other</th>\n",
              "      <td>1376</td>\n",
              "    </tr>\n",
              "  </tbody>\n",
              "</table>\n",
              "</div><br><label><b>dtype:</b> int64</label>"
            ]
          },
          "metadata": {},
          "execution_count": 11
        }
      ],
      "source": [
        "repos['license_name'].value_counts().head(3)"
      ]
    },
    {
      "cell_type": "markdown",
      "id": "662f1894-2c60-429c-b06d-cbe36afe6f08",
      "metadata": {
        "id": "662f1894-2c60-429c-b06d-cbe36afe6f08"
      },
      "source": [
        "#### Q4. Which company do the majority of these developers work at?"
      ]
    },
    {
      "cell_type": "code",
      "execution_count": 12,
      "id": "93a985b2-4e56-4871-9757-23e6ae5ed0de",
      "metadata": {
        "colab": {
          "base_uri": "https://localhost:8080/",
          "height": 147
        },
        "id": "93a985b2-4e56-4871-9757-23e6ae5ed0de",
        "outputId": "526cd357-63b7-45d5-cbcd-ec5aa3807dfa"
      },
      "outputs": [
        {
          "output_type": "execute_result",
          "data": {
            "text/plain": [
              "company\n",
              "MASAI SCHOOL    14\n",
              "Name: count, dtype: int64"
            ],
            "text/html": [
              "<div>\n",
              "<style scoped>\n",
              "    .dataframe tbody tr th:only-of-type {\n",
              "        vertical-align: middle;\n",
              "    }\n",
              "\n",
              "    .dataframe tbody tr th {\n",
              "        vertical-align: top;\n",
              "    }\n",
              "\n",
              "    .dataframe thead th {\n",
              "        text-align: right;\n",
              "    }\n",
              "</style>\n",
              "<table border=\"1\" class=\"dataframe\">\n",
              "  <thead>\n",
              "    <tr style=\"text-align: right;\">\n",
              "      <th></th>\n",
              "      <th>count</th>\n",
              "    </tr>\n",
              "    <tr>\n",
              "      <th>company</th>\n",
              "      <th></th>\n",
              "    </tr>\n",
              "  </thead>\n",
              "  <tbody>\n",
              "    <tr>\n",
              "      <th>MASAI SCHOOL</th>\n",
              "      <td>14</td>\n",
              "    </tr>\n",
              "  </tbody>\n",
              "</table>\n",
              "</div><br><label><b>dtype:</b> int64</label>"
            ]
          },
          "metadata": {},
          "execution_count": 12
        }
      ],
      "source": [
        "users['company'].value_counts().head(1)"
      ]
    },
    {
      "cell_type": "markdown",
      "id": "3e73104c-f44c-4e59-aecc-cb10a34578a1",
      "metadata": {
        "id": "3e73104c-f44c-4e59-aecc-cb10a34578a1"
      },
      "source": [
        "#### Q5. Which programming language is most popular among these users?"
      ]
    },
    {
      "cell_type": "code",
      "execution_count": 13,
      "id": "1abcf548-42aa-43fc-837e-86c6db860617",
      "metadata": {
        "colab": {
          "base_uri": "https://localhost:8080/",
          "height": 147
        },
        "id": "1abcf548-42aa-43fc-837e-86c6db860617",
        "outputId": "1f9eb801-68a5-4afb-e371-6f44f5fadef0"
      },
      "outputs": [
        {
          "output_type": "execute_result",
          "data": {
            "text/plain": [
              "language\n",
              "JavaScript    6983\n",
              "Name: count, dtype: int64"
            ],
            "text/html": [
              "<div>\n",
              "<style scoped>\n",
              "    .dataframe tbody tr th:only-of-type {\n",
              "        vertical-align: middle;\n",
              "    }\n",
              "\n",
              "    .dataframe tbody tr th {\n",
              "        vertical-align: top;\n",
              "    }\n",
              "\n",
              "    .dataframe thead th {\n",
              "        text-align: right;\n",
              "    }\n",
              "</style>\n",
              "<table border=\"1\" class=\"dataframe\">\n",
              "  <thead>\n",
              "    <tr style=\"text-align: right;\">\n",
              "      <th></th>\n",
              "      <th>count</th>\n",
              "    </tr>\n",
              "    <tr>\n",
              "      <th>language</th>\n",
              "      <th></th>\n",
              "    </tr>\n",
              "  </thead>\n",
              "  <tbody>\n",
              "    <tr>\n",
              "      <th>JavaScript</th>\n",
              "      <td>6983</td>\n",
              "    </tr>\n",
              "  </tbody>\n",
              "</table>\n",
              "</div><br><label><b>dtype:</b> int64</label>"
            ]
          },
          "metadata": {},
          "execution_count": 13
        }
      ],
      "source": [
        "repos['language'].value_counts().head(1)"
      ]
    },
    {
      "cell_type": "markdown",
      "id": "bf7abc13-3226-4c35-b42e-400f06cac01d",
      "metadata": {
        "id": "bf7abc13-3226-4c35-b42e-400f06cac01d"
      },
      "source": [
        "#### Q6. Which programming language is the second most popular among users who joined after 2020?"
      ]
    },
    {
      "cell_type": "code",
      "execution_count": 14,
      "id": "d01727ac-d1de-4407-a65b-db7a88223d81",
      "metadata": {
        "colab": {
          "base_uri": "https://localhost:8080/",
          "height": 310
        },
        "id": "d01727ac-d1de-4407-a65b-db7a88223d81",
        "outputId": "0f755e53-6510-450e-dfc2-fcb57c8d0983"
      },
      "outputs": [
        {
          "output_type": "execute_result",
          "data": {
            "text/plain": [
              "                 login                 name           company  \\\n",
              "0   ValentineFernandes  Valentine Fernandes               NaN   \n",
              "3           aryashah2k            Arya Shah           OPENAOD   \n",
              "4        coding-parrot           Gaurav Sen    INTERVIEWREADY   \n",
              "7            Kushal334      Kushal Shingote  PRACTO TOKOPEDIA   \n",
              "11    LakshyaDuhoonISU       Lakshya Duhoon               NaN   \n",
              "\n",
              "               location                      email  hireable  \\\n",
              "0         Mumbai, India                        NaN     False   \n",
              "3         Mumbai, India                        NaN     False   \n",
              "4         Mumbai, India                        NaN     False   \n",
              "7   Mumbai, Maharashtra  kushalshingote2@gmail.com     False   \n",
              "11   Navi Mumbai, India                        NaN     False   \n",
              "\n",
              "                                                  bio  public_repos  \\\n",
              "0           HTML |  CSS |  JS  |  SQL |  MYSQL | JAVA            66   \n",
              "3   Computer Science Major | Machine Learning | So...            88   \n",
              "4                               CEO of InterviewReady            11   \n",
              "7   Android Developer📱📱\\r\\niOS Apps📱📱\\r\\nSwift | X...           330   \n",
              "11  B.Tech CSE student at ITM Skills University.\\r...            69   \n",
              "\n",
              "    followers  following                created_at  \n",
              "0        5251       5275 2022-01-29 08:11:37+00:00  \n",
              "3        2601       2583 2020-11-03 03:06:19+00:00  \n",
              "4        2417          0 2020-01-03 14:13:35+00:00  \n",
              "7        1308       9058 2020-06-07 07:21:19+00:00  \n",
              "11        891       1536 2023-08-21 06:05:19+00:00  "
            ],
            "text/html": [
              "\n",
              "  <div id=\"df-8b468034-7b3f-4343-ab22-e1442e6c9bc5\" class=\"colab-df-container\">\n",
              "    <div>\n",
              "<style scoped>\n",
              "    .dataframe tbody tr th:only-of-type {\n",
              "        vertical-align: middle;\n",
              "    }\n",
              "\n",
              "    .dataframe tbody tr th {\n",
              "        vertical-align: top;\n",
              "    }\n",
              "\n",
              "    .dataframe thead th {\n",
              "        text-align: right;\n",
              "    }\n",
              "</style>\n",
              "<table border=\"1\" class=\"dataframe\">\n",
              "  <thead>\n",
              "    <tr style=\"text-align: right;\">\n",
              "      <th></th>\n",
              "      <th>login</th>\n",
              "      <th>name</th>\n",
              "      <th>company</th>\n",
              "      <th>location</th>\n",
              "      <th>email</th>\n",
              "      <th>hireable</th>\n",
              "      <th>bio</th>\n",
              "      <th>public_repos</th>\n",
              "      <th>followers</th>\n",
              "      <th>following</th>\n",
              "      <th>created_at</th>\n",
              "    </tr>\n",
              "  </thead>\n",
              "  <tbody>\n",
              "    <tr>\n",
              "      <th>0</th>\n",
              "      <td>ValentineFernandes</td>\n",
              "      <td>Valentine Fernandes</td>\n",
              "      <td>NaN</td>\n",
              "      <td>Mumbai, India</td>\n",
              "      <td>NaN</td>\n",
              "      <td>False</td>\n",
              "      <td>HTML |  CSS |  JS  |  SQL |  MYSQL | JAVA</td>\n",
              "      <td>66</td>\n",
              "      <td>5251</td>\n",
              "      <td>5275</td>\n",
              "      <td>2022-01-29 08:11:37+00:00</td>\n",
              "    </tr>\n",
              "    <tr>\n",
              "      <th>3</th>\n",
              "      <td>aryashah2k</td>\n",
              "      <td>Arya Shah</td>\n",
              "      <td>OPENAOD</td>\n",
              "      <td>Mumbai, India</td>\n",
              "      <td>NaN</td>\n",
              "      <td>False</td>\n",
              "      <td>Computer Science Major | Machine Learning | So...</td>\n",
              "      <td>88</td>\n",
              "      <td>2601</td>\n",
              "      <td>2583</td>\n",
              "      <td>2020-11-03 03:06:19+00:00</td>\n",
              "    </tr>\n",
              "    <tr>\n",
              "      <th>4</th>\n",
              "      <td>coding-parrot</td>\n",
              "      <td>Gaurav Sen</td>\n",
              "      <td>INTERVIEWREADY</td>\n",
              "      <td>Mumbai, India</td>\n",
              "      <td>NaN</td>\n",
              "      <td>False</td>\n",
              "      <td>CEO of InterviewReady</td>\n",
              "      <td>11</td>\n",
              "      <td>2417</td>\n",
              "      <td>0</td>\n",
              "      <td>2020-01-03 14:13:35+00:00</td>\n",
              "    </tr>\n",
              "    <tr>\n",
              "      <th>7</th>\n",
              "      <td>Kushal334</td>\n",
              "      <td>Kushal Shingote</td>\n",
              "      <td>PRACTO TOKOPEDIA</td>\n",
              "      <td>Mumbai, Maharashtra</td>\n",
              "      <td>kushalshingote2@gmail.com</td>\n",
              "      <td>False</td>\n",
              "      <td>Android Developer📱📱\\r\\niOS Apps📱📱\\r\\nSwift | X...</td>\n",
              "      <td>330</td>\n",
              "      <td>1308</td>\n",
              "      <td>9058</td>\n",
              "      <td>2020-06-07 07:21:19+00:00</td>\n",
              "    </tr>\n",
              "    <tr>\n",
              "      <th>11</th>\n",
              "      <td>LakshyaDuhoonISU</td>\n",
              "      <td>Lakshya Duhoon</td>\n",
              "      <td>NaN</td>\n",
              "      <td>Navi Mumbai, India</td>\n",
              "      <td>NaN</td>\n",
              "      <td>False</td>\n",
              "      <td>B.Tech CSE student at ITM Skills University.\\r...</td>\n",
              "      <td>69</td>\n",
              "      <td>891</td>\n",
              "      <td>1536</td>\n",
              "      <td>2023-08-21 06:05:19+00:00</td>\n",
              "    </tr>\n",
              "  </tbody>\n",
              "</table>\n",
              "</div>\n",
              "    <div class=\"colab-df-buttons\">\n",
              "\n",
              "  <div class=\"colab-df-container\">\n",
              "    <button class=\"colab-df-convert\" onclick=\"convertToInteractive('df-8b468034-7b3f-4343-ab22-e1442e6c9bc5')\"\n",
              "            title=\"Convert this dataframe to an interactive table.\"\n",
              "            style=\"display:none;\">\n",
              "\n",
              "  <svg xmlns=\"http://www.w3.org/2000/svg\" height=\"24px\" viewBox=\"0 -960 960 960\">\n",
              "    <path d=\"M120-120v-720h720v720H120Zm60-500h600v-160H180v160Zm220 220h160v-160H400v160Zm0 220h160v-160H400v160ZM180-400h160v-160H180v160Zm440 0h160v-160H620v160ZM180-180h160v-160H180v160Zm440 0h160v-160H620v160Z\"/>\n",
              "  </svg>\n",
              "    </button>\n",
              "\n",
              "  <style>\n",
              "    .colab-df-container {\n",
              "      display:flex;\n",
              "      gap: 12px;\n",
              "    }\n",
              "\n",
              "    .colab-df-convert {\n",
              "      background-color: #E8F0FE;\n",
              "      border: none;\n",
              "      border-radius: 50%;\n",
              "      cursor: pointer;\n",
              "      display: none;\n",
              "      fill: #1967D2;\n",
              "      height: 32px;\n",
              "      padding: 0 0 0 0;\n",
              "      width: 32px;\n",
              "    }\n",
              "\n",
              "    .colab-df-convert:hover {\n",
              "      background-color: #E2EBFA;\n",
              "      box-shadow: 0px 1px 2px rgba(60, 64, 67, 0.3), 0px 1px 3px 1px rgba(60, 64, 67, 0.15);\n",
              "      fill: #174EA6;\n",
              "    }\n",
              "\n",
              "    .colab-df-buttons div {\n",
              "      margin-bottom: 4px;\n",
              "    }\n",
              "\n",
              "    [theme=dark] .colab-df-convert {\n",
              "      background-color: #3B4455;\n",
              "      fill: #D2E3FC;\n",
              "    }\n",
              "\n",
              "    [theme=dark] .colab-df-convert:hover {\n",
              "      background-color: #434B5C;\n",
              "      box-shadow: 0px 1px 3px 1px rgba(0, 0, 0, 0.15);\n",
              "      filter: drop-shadow(0px 1px 2px rgba(0, 0, 0, 0.3));\n",
              "      fill: #FFFFFF;\n",
              "    }\n",
              "  </style>\n",
              "\n",
              "    <script>\n",
              "      const buttonEl =\n",
              "        document.querySelector('#df-8b468034-7b3f-4343-ab22-e1442e6c9bc5 button.colab-df-convert');\n",
              "      buttonEl.style.display =\n",
              "        google.colab.kernel.accessAllowed ? 'block' : 'none';\n",
              "\n",
              "      async function convertToInteractive(key) {\n",
              "        const element = document.querySelector('#df-8b468034-7b3f-4343-ab22-e1442e6c9bc5');\n",
              "        const dataTable =\n",
              "          await google.colab.kernel.invokeFunction('convertToInteractive',\n",
              "                                                    [key], {});\n",
              "        if (!dataTable) return;\n",
              "\n",
              "        const docLinkHtml = 'Like what you see? Visit the ' +\n",
              "          '<a target=\"_blank\" href=https://colab.research.google.com/notebooks/data_table.ipynb>data table notebook</a>'\n",
              "          + ' to learn more about interactive tables.';\n",
              "        element.innerHTML = '';\n",
              "        dataTable['output_type'] = 'display_data';\n",
              "        await google.colab.output.renderOutput(dataTable, element);\n",
              "        const docLink = document.createElement('div');\n",
              "        docLink.innerHTML = docLinkHtml;\n",
              "        element.appendChild(docLink);\n",
              "      }\n",
              "    </script>\n",
              "  </div>\n",
              "\n",
              "\n",
              "<div id=\"df-a86c6385-9bd6-4bac-92f0-ab8cf4337611\">\n",
              "  <button class=\"colab-df-quickchart\" onclick=\"quickchart('df-a86c6385-9bd6-4bac-92f0-ab8cf4337611')\"\n",
              "            title=\"Suggest charts\"\n",
              "            style=\"display:none;\">\n",
              "\n",
              "<svg xmlns=\"http://www.w3.org/2000/svg\" height=\"24px\"viewBox=\"0 0 24 24\"\n",
              "     width=\"24px\">\n",
              "    <g>\n",
              "        <path d=\"M19 3H5c-1.1 0-2 .9-2 2v14c0 1.1.9 2 2 2h14c1.1 0 2-.9 2-2V5c0-1.1-.9-2-2-2zM9 17H7v-7h2v7zm4 0h-2V7h2v10zm4 0h-2v-4h2v4z\"/>\n",
              "    </g>\n",
              "</svg>\n",
              "  </button>\n",
              "\n",
              "<style>\n",
              "  .colab-df-quickchart {\n",
              "      --bg-color: #E8F0FE;\n",
              "      --fill-color: #1967D2;\n",
              "      --hover-bg-color: #E2EBFA;\n",
              "      --hover-fill-color: #174EA6;\n",
              "      --disabled-fill-color: #AAA;\n",
              "      --disabled-bg-color: #DDD;\n",
              "  }\n",
              "\n",
              "  [theme=dark] .colab-df-quickchart {\n",
              "      --bg-color: #3B4455;\n",
              "      --fill-color: #D2E3FC;\n",
              "      --hover-bg-color: #434B5C;\n",
              "      --hover-fill-color: #FFFFFF;\n",
              "      --disabled-bg-color: #3B4455;\n",
              "      --disabled-fill-color: #666;\n",
              "  }\n",
              "\n",
              "  .colab-df-quickchart {\n",
              "    background-color: var(--bg-color);\n",
              "    border: none;\n",
              "    border-radius: 50%;\n",
              "    cursor: pointer;\n",
              "    display: none;\n",
              "    fill: var(--fill-color);\n",
              "    height: 32px;\n",
              "    padding: 0;\n",
              "    width: 32px;\n",
              "  }\n",
              "\n",
              "  .colab-df-quickchart:hover {\n",
              "    background-color: var(--hover-bg-color);\n",
              "    box-shadow: 0 1px 2px rgba(60, 64, 67, 0.3), 0 1px 3px 1px rgba(60, 64, 67, 0.15);\n",
              "    fill: var(--button-hover-fill-color);\n",
              "  }\n",
              "\n",
              "  .colab-df-quickchart-complete:disabled,\n",
              "  .colab-df-quickchart-complete:disabled:hover {\n",
              "    background-color: var(--disabled-bg-color);\n",
              "    fill: var(--disabled-fill-color);\n",
              "    box-shadow: none;\n",
              "  }\n",
              "\n",
              "  .colab-df-spinner {\n",
              "    border: 2px solid var(--fill-color);\n",
              "    border-color: transparent;\n",
              "    border-bottom-color: var(--fill-color);\n",
              "    animation:\n",
              "      spin 1s steps(1) infinite;\n",
              "  }\n",
              "\n",
              "  @keyframes spin {\n",
              "    0% {\n",
              "      border-color: transparent;\n",
              "      border-bottom-color: var(--fill-color);\n",
              "      border-left-color: var(--fill-color);\n",
              "    }\n",
              "    20% {\n",
              "      border-color: transparent;\n",
              "      border-left-color: var(--fill-color);\n",
              "      border-top-color: var(--fill-color);\n",
              "    }\n",
              "    30% {\n",
              "      border-color: transparent;\n",
              "      border-left-color: var(--fill-color);\n",
              "      border-top-color: var(--fill-color);\n",
              "      border-right-color: var(--fill-color);\n",
              "    }\n",
              "    40% {\n",
              "      border-color: transparent;\n",
              "      border-right-color: var(--fill-color);\n",
              "      border-top-color: var(--fill-color);\n",
              "    }\n",
              "    60% {\n",
              "      border-color: transparent;\n",
              "      border-right-color: var(--fill-color);\n",
              "    }\n",
              "    80% {\n",
              "      border-color: transparent;\n",
              "      border-right-color: var(--fill-color);\n",
              "      border-bottom-color: var(--fill-color);\n",
              "    }\n",
              "    90% {\n",
              "      border-color: transparent;\n",
              "      border-bottom-color: var(--fill-color);\n",
              "    }\n",
              "  }\n",
              "</style>\n",
              "\n",
              "  <script>\n",
              "    async function quickchart(key) {\n",
              "      const quickchartButtonEl =\n",
              "        document.querySelector('#' + key + ' button');\n",
              "      quickchartButtonEl.disabled = true;  // To prevent multiple clicks.\n",
              "      quickchartButtonEl.classList.add('colab-df-spinner');\n",
              "      try {\n",
              "        const charts = await google.colab.kernel.invokeFunction(\n",
              "            'suggestCharts', [key], {});\n",
              "      } catch (error) {\n",
              "        console.error('Error during call to suggestCharts:', error);\n",
              "      }\n",
              "      quickchartButtonEl.classList.remove('colab-df-spinner');\n",
              "      quickchartButtonEl.classList.add('colab-df-quickchart-complete');\n",
              "    }\n",
              "    (() => {\n",
              "      let quickchartButtonEl =\n",
              "        document.querySelector('#df-a86c6385-9bd6-4bac-92f0-ab8cf4337611 button');\n",
              "      quickchartButtonEl.style.display =\n",
              "        google.colab.kernel.accessAllowed ? 'block' : 'none';\n",
              "    })();\n",
              "  </script>\n",
              "</div>\n",
              "\n",
              "    </div>\n",
              "  </div>\n"
            ],
            "application/vnd.google.colaboratory.intrinsic+json": {
              "type": "dataframe",
              "variable_name": "users_after_2020",
              "summary": "{\n  \"name\": \"users_after_2020\",\n  \"rows\": 279,\n  \"fields\": [\n    {\n      \"column\": \"login\",\n      \"properties\": {\n        \"dtype\": \"string\",\n        \"num_unique_values\": 279,\n        \"samples\": [\n          \"Gaurang5704\",\n          \"Sheldon-CodeIt\",\n          \"SanjaySargam\"\n        ],\n        \"semantic_type\": \"\",\n        \"description\": \"\"\n      }\n    },\n    {\n      \"column\": \"name\",\n      \"properties\": {\n        \"dtype\": \"string\",\n        \"num_unique_values\": 275,\n        \"samples\": [\n          \"Ruchi Pakhle\",\n          \"Tanmay\",\n          \"Aamir Ansari\"\n        ],\n        \"semantic_type\": \"\",\n        \"description\": \"\"\n      }\n    },\n    {\n      \"column\": \"company\",\n      \"properties\": {\n        \"dtype\": \"category\",\n        \"num_unique_values\": 115,\n        \"samples\": [\n          \"ISTE-VESIT @CMPN-CODECELL\",\n          \"BHAVIK TUTORIALS\",\n          \"NMIMS MPSTME\"\n        ],\n        \"semantic_type\": \"\",\n        \"description\": \"\"\n      }\n    },\n    {\n      \"column\": \"location\",\n      \"properties\": {\n        \"dtype\": \"category\",\n        \"num_unique_values\": 64,\n        \"samples\": [\n          \"Navi Mumbai,India\",\n          \" No. U, 15, Bhaktivedanta Swami Rd, opp. Cooper Hospital, Navpada, JVPD Scheme, Vile Parle, Mumbai, Maharashtra 400056\",\n          \"Mumbai, India\"\n        ],\n        \"semantic_type\": \"\",\n        \"description\": \"\"\n      }\n    },\n    {\n      \"column\": \"email\",\n      \"properties\": {\n        \"dtype\": \"category\",\n        \"num_unique_values\": 84,\n        \"samples\": [\n          \"devishworld@gmail.com\",\n          \"kushalshingote2@gmail.com\",\n          \"reuben.sd@iitgn.ac.in\"\n        ],\n        \"semantic_type\": \"\",\n        \"description\": \"\"\n      }\n    },\n    {\n      \"column\": \"hireable\",\n      \"properties\": {\n        \"dtype\": \"boolean\",\n        \"num_unique_values\": 2,\n        \"samples\": [\n          true,\n          false\n        ],\n        \"semantic_type\": \"\",\n        \"description\": \"\"\n      }\n    },\n    {\n      \"column\": \"bio\",\n      \"properties\": {\n        \"dtype\": \"string\",\n        \"num_unique_values\": 260,\n        \"samples\": [\n          \"Associate Software Engineer @RedHatOfficial | LFX Spring'22 @open-horizon | Open Source Developer @asyncapi | :hearts: All things open source\",\n          \"Frontend Developer | Next.js, React.js, TypeScript, Firebase, WordPress, Git | BSc IT Student | Ex-Frontend Intern @Rinventix \"\n        ],\n        \"semantic_type\": \"\",\n        \"description\": \"\"\n      }\n    },\n    {\n      \"column\": \"public_repos\",\n      \"properties\": {\n        \"dtype\": \"number\",\n        \"std\": 39,\n        \"min\": 0,\n        \"max\": 330,\n        \"num_unique_values\": 106,\n        \"samples\": [\n          274,\n          18\n        ],\n        \"semantic_type\": \"\",\n        \"description\": \"\"\n      }\n    },\n    {\n      \"column\": \"followers\",\n      \"properties\": {\n        \"dtype\": \"number\",\n        \"std\": 387,\n        \"min\": 51,\n        \"max\": 5251,\n        \"num_unique_values\": 121,\n        \"samples\": [\n          164,\n          156\n        ],\n        \"semantic_type\": \"\",\n        \"description\": \"\"\n      }\n    },\n    {\n      \"column\": \"following\",\n      \"properties\": {\n        \"dtype\": \"number\",\n        \"std\": 661,\n        \"min\": 0,\n        \"max\": 9058,\n        \"num_unique_values\": 158,\n        \"samples\": [\n          134,\n          141\n        ],\n        \"semantic_type\": \"\",\n        \"description\": \"\"\n      }\n    },\n    {\n      \"column\": \"created_at\",\n      \"properties\": {\n        \"dtype\": \"date\",\n        \"min\": \"2020-01-02 04:58:08+00:00\",\n        \"max\": \"2024-03-29 06:23:16+00:00\",\n        \"num_unique_values\": 278,\n        \"samples\": [\n          \"2023-08-21 06:09:38+00:00\",\n          \"2020-04-05 07:25:37+00:00\"\n        ],\n        \"semantic_type\": \"\",\n        \"description\": \"\"\n      }\n    }\n  ]\n}"
            }
          },
          "metadata": {},
          "execution_count": 14
        }
      ],
      "source": [
        "users_after_2020 = users[users['created_at'] > '2020-01-01']\n",
        "users_after_2020.head()"
      ]
    },
    {
      "cell_type": "code",
      "execution_count": 15,
      "id": "aee537b6-38c7-4aa5-baae-c398fe385053",
      "metadata": {
        "colab": {
          "base_uri": "https://localhost:8080/",
          "height": 272
        },
        "id": "aee537b6-38c7-4aa5-baae-c398fe385053",
        "outputId": "7bcf5ed0-08dc-45ea-d75d-7b48633fcf58"
      },
      "outputs": [
        {
          "output_type": "execute_result",
          "data": {
            "text/plain": [
              "language\n",
              "JavaScript          3153\n",
              "HTML                1229\n",
              "Python              1002\n",
              "Jupyter Notebook     712\n",
              "TypeScript           576\n",
              "Name: count, dtype: int64"
            ],
            "text/html": [
              "<div>\n",
              "<style scoped>\n",
              "    .dataframe tbody tr th:only-of-type {\n",
              "        vertical-align: middle;\n",
              "    }\n",
              "\n",
              "    .dataframe tbody tr th {\n",
              "        vertical-align: top;\n",
              "    }\n",
              "\n",
              "    .dataframe thead th {\n",
              "        text-align: right;\n",
              "    }\n",
              "</style>\n",
              "<table border=\"1\" class=\"dataframe\">\n",
              "  <thead>\n",
              "    <tr style=\"text-align: right;\">\n",
              "      <th></th>\n",
              "      <th>count</th>\n",
              "    </tr>\n",
              "    <tr>\n",
              "      <th>language</th>\n",
              "      <th></th>\n",
              "    </tr>\n",
              "  </thead>\n",
              "  <tbody>\n",
              "    <tr>\n",
              "      <th>JavaScript</th>\n",
              "      <td>3153</td>\n",
              "    </tr>\n",
              "    <tr>\n",
              "      <th>HTML</th>\n",
              "      <td>1229</td>\n",
              "    </tr>\n",
              "    <tr>\n",
              "      <th>Python</th>\n",
              "      <td>1002</td>\n",
              "    </tr>\n",
              "    <tr>\n",
              "      <th>Jupyter Notebook</th>\n",
              "      <td>712</td>\n",
              "    </tr>\n",
              "    <tr>\n",
              "      <th>TypeScript</th>\n",
              "      <td>576</td>\n",
              "    </tr>\n",
              "  </tbody>\n",
              "</table>\n",
              "</div><br><label><b>dtype:</b> int64</label>"
            ]
          },
          "metadata": {},
          "execution_count": 15
        }
      ],
      "source": [
        "repos_2020 = repos[repos['login'].isin(users_after_2020['login'].tolist())]\n",
        "repos_2020['language'].value_counts().head()"
      ]
    },
    {
      "cell_type": "markdown",
      "id": "d0b07a2f-bcae-496b-ab7e-188a2f0aa7be",
      "metadata": {
        "id": "d0b07a2f-bcae-496b-ab7e-188a2f0aa7be"
      },
      "source": [
        "#### Q7. Which language has the highest average number of stars per repository?"
      ]
    },
    {
      "cell_type": "code",
      "execution_count": 16,
      "id": "8c8a119a-e562-4855-8330-23b6dccdfea9",
      "metadata": {
        "colab": {
          "base_uri": "https://localhost:8080/"
        },
        "id": "8c8a119a-e562-4855-8330-23b6dccdfea9",
        "outputId": "7c30acec-a597-408b-a031-68b225e3b6aa"
      },
      "outputs": [
        {
          "output_type": "stream",
          "name": "stdout",
          "text": [
            "TSQL 742.5\n"
          ]
        }
      ],
      "source": [
        "avg_stars = repos.groupby('language')['stargazers_count'].mean()\n",
        "top_lang = avg_stars.idxmax()\n",
        "top_stars = avg_stars.max()\n",
        "print(top_lang, top_stars)"
      ]
    },
    {
      "cell_type": "markdown",
      "id": "e430846a-1518-409f-8717-cb2f84570460",
      "metadata": {
        "id": "e430846a-1518-409f-8717-cb2f84570460"
      },
      "source": [
        "#### Q8. Let's define leader_strength as followers / (1 + following). Who are the top 5 in terms of leader_strength? List their login in order, comma-separated."
      ]
    },
    {
      "cell_type": "code",
      "execution_count": 17,
      "id": "aa51b046-149f-4ef5-89ff-62586043992c",
      "metadata": {
        "colab": {
          "base_uri": "https://localhost:8080/"
        },
        "id": "aa51b046-149f-4ef5-89ff-62586043992c",
        "outputId": "c60d19e9-ee41-4443-a4e9-798b2331f209"
      },
      "outputs": [
        {
          "output_type": "stream",
          "name": "stdout",
          "text": [
            "kovidgoyal,coding-parrot,gkcs,slidenerd,dmalvia\n"
          ]
        }
      ],
      "source": [
        "users['leader_strength'] = users['followers'] / (1 + users['following'])\n",
        "top5_lead = users.sort_values(by='leader_strength', ascending=False).head()\n",
        "print(','.join(top5_lead['login'].tolist()))"
      ]
    },
    {
      "cell_type": "markdown",
      "id": "8dd87be3-3a61-4fe1-ab5c-1ef836c545d3",
      "metadata": {
        "id": "8dd87be3-3a61-4fe1-ab5c-1ef836c545d3"
      },
      "source": [
        "#### Q9. What is the correlation between the number of followers and the number of public repositories among users in Basel?"
      ]
    },
    {
      "cell_type": "code",
      "execution_count": 18,
      "id": "91e8b274-bde5-41ac-91d2-d965334f2d35",
      "metadata": {
        "colab": {
          "base_uri": "https://localhost:8080/"
        },
        "id": "91e8b274-bde5-41ac-91d2-d965334f2d35",
        "outputId": "bfdbab2c-1916-41fb-93f7-86931decbfc5"
      },
      "outputs": [
        {
          "output_type": "execute_result",
          "data": {
            "text/plain": [
              "0.034773016150957084"
            ]
          },
          "metadata": {},
          "execution_count": 18
        }
      ],
      "source": [
        "correlation = users['followers'].corr(users['public_repos'])\n",
        "correlation"
      ]
    },
    {
      "cell_type": "markdown",
      "id": "23dac608-8b88-48d8-aeae-1e11b2cb2b87",
      "metadata": {
        "id": "23dac608-8b88-48d8-aeae-1e11b2cb2b87"
      },
      "source": [
        "#### Q10. Does creating more repos help users get more followers? Using regression, estimate how many additional followers a user gets per additional public repository."
      ]
    },
    {
      "cell_type": "code",
      "execution_count": 19,
      "id": "9eede565-f813-4807-989b-051201f7f411",
      "metadata": {
        "colab": {
          "base_uri": "https://localhost:8080/"
        },
        "id": "9eede565-f813-4807-989b-051201f7f411",
        "outputId": "009f59ff-ed46-4ce7-c0a1-3d4c051c15f6"
      },
      "outputs": [
        {
          "output_type": "stream",
          "name": "stdout",
          "text": [
            "0.102\n"
          ]
        }
      ],
      "source": [
        "import csv\n",
        "followers = []\n",
        "public_repos = []\n",
        "with open('users.csv', 'r', encoding='utf-8') as file:\n",
        "    reader = csv.DictReader(file)\n",
        "    for row in reader:\n",
        "        followers_count = int(row['followers'])\n",
        "        public_repos_count = int(row['public_repos'])\n",
        "        followers.append(followers_count)\n",
        "        public_repos.append(public_repos_count)\n",
        "if len(followers) > 1 and len(public_repos) > 1:\n",
        "    slope, intercept = np.polyfit(public_repos, followers, 1)\n",
        "\n",
        "    print(f\"{slope:.3f}\")\n",
        "else:\n",
        "    print(\"Error\")"
      ]
    },
    {
      "cell_type": "markdown",
      "id": "b1739602-5cef-48d6-a3ef-3ecc1d12f405",
      "metadata": {
        "id": "b1739602-5cef-48d6-a3ef-3ecc1d12f405"
      },
      "source": [
        "#### Q11. Do people typically enable projects and wikis together? What is the correlation between a repo having projects enabled and having wiki enabled?"
      ]
    },
    {
      "cell_type": "code",
      "execution_count": 20,
      "id": "e680160d-cfa3-42ef-be27-55a772b77171",
      "metadata": {
        "colab": {
          "base_uri": "https://localhost:8080/"
        },
        "id": "e680160d-cfa3-42ef-be27-55a772b77171",
        "outputId": "707d58a1-7b89-4764-dc11-0b22dbea5541"
      },
      "outputs": [
        {
          "output_type": "stream",
          "name": "stdout",
          "text": [
            "0.171\n"
          ]
        }
      ],
      "source": [
        "if repos['has_projects'].dtype == 'object':\n",
        "    repos['has_projects'] = repos['has_projects'].map({'true': True, 'false': False})\n",
        "if repos['has_wiki'].dtype == 'object':\n",
        "    repos['has_wiki'] = repos['has_wiki'].map({'true': True, 'false': False})\n",
        "\n",
        "correlation = repos['has_projects'].corr(repos['has_wiki'])\n",
        "\n",
        "print(round(correlation, 3))"
      ]
    },
    {
      "cell_type": "markdown",
      "id": "7d1c5de4-b714-46e2-af6a-ad41e8a42f8f",
      "metadata": {
        "id": "7d1c5de4-b714-46e2-af6a-ad41e8a42f8f"
      },
      "source": [
        "#### Q12. Do hireable users follow more people than those who are not hireable?"
      ]
    },
    {
      "cell_type": "code",
      "execution_count": 21,
      "id": "cd51bed6-bba7-4407-94a9-ccc5e3968b4d",
      "metadata": {
        "colab": {
          "base_uri": "https://localhost:8080/"
        },
        "id": "cd51bed6-bba7-4407-94a9-ccc5e3968b4d",
        "outputId": "f1b55962-c4df-407e-9493-7bdbdf1b0fdc"
      },
      "outputs": [
        {
          "output_type": "execute_result",
          "data": {
            "text/plain": [
              "8.66654007756948"
            ]
          },
          "metadata": {},
          "execution_count": 21
        }
      ],
      "source": [
        "hireable_avg_following = users[users['hireable'] == True]['following'].mean()\n",
        "non_hireable_avg_following = users[users['hireable'] == False]['following'].mean()\n",
        "difference = hireable_avg_following - non_hireable_avg_following\n",
        "difference"
      ]
    },
    {
      "cell_type": "markdown",
      "id": "1f30dbcf-90f2-4531-b37c-0386828e1f9f",
      "metadata": {
        "id": "1f30dbcf-90f2-4531-b37c-0386828e1f9f"
      },
      "source": [
        "#### Q13. Some developers write long bios. Does that help them get more followers? What's the correlation of the length of their bio (in Unicode characters) with followers? (Ignore people without bios)"
      ]
    },
    {
      "cell_type": "code",
      "execution_count": 22,
      "id": "a324c8b4-9faf-4f4d-9c3d-0813e6bdbfb8",
      "metadata": {
        "colab": {
          "base_uri": "https://localhost:8080/"
        },
        "id": "a324c8b4-9faf-4f4d-9c3d-0813e6bdbfb8",
        "outputId": "2ebe62cc-a388-4e6e-9118-77c941dc715a"
      },
      "outputs": [
        {
          "output_type": "execute_result",
          "data": {
            "text/plain": [
              "-0.13863164638052616"
            ]
          },
          "metadata": {},
          "execution_count": 22
        }
      ],
      "source": [
        "from sklearn.linear_model import LinearRegression\n",
        "users_with_bio = users[(users['bio'].notna()) & (users['bio'] != '')].copy()\n",
        "users_with_bio.loc[:, 'bio_len'] = users_with_bio['bio'].str.len()\n",
        "\n",
        "X = users_with_bio['bio_len'].values.reshape(-1,1)\n",
        "y = users_with_bio['followers']\n",
        "\n",
        "lr2 = LinearRegression()\n",
        "lr2.fit(X, y)\n",
        "lr2.coef_[0]"
      ]
    },
    {
      "cell_type": "markdown",
      "id": "96cb22e4-4046-40cf-9be5-06f096b0f0c3",
      "metadata": {
        "id": "96cb22e4-4046-40cf-9be5-06f096b0f0c3"
      },
      "source": [
        "#### Q14. Who created the most repositories on weekends (UTC)? List the top 5 users' login in order, comma-separated"
      ]
    },
    {
      "cell_type": "code",
      "execution_count": 23,
      "id": "ab49dafe-2981-4fe1-b603-0bee0e61e04f",
      "metadata": {
        "colab": {
          "base_uri": "https://localhost:8080/"
        },
        "id": "ab49dafe-2981-4fe1-b603-0bee0e61e04f",
        "outputId": "f103b453-cf81-4990-ad76-b0cc6bb886ff"
      },
      "outputs": [
        {
          "output_type": "stream",
          "name": "stdout",
          "text": [
            "backtrackbaba,devdatta95,Kushal334,ankit0183,burhanuday\n"
          ]
        }
      ],
      "source": [
        "import csv\n",
        "from collections import Counter\n",
        "from datetime import datetime\n",
        "\n",
        "weekend_repo_counts = Counter()\n",
        "\n",
        "with open('repositories.csv', 'r', encoding='utf-8') as file:\n",
        "    reader = csv.DictReader(file)\n",
        "\n",
        "    for row in reader:\n",
        "        created_at = row.get('created_at', '')\n",
        "        if created_at:\n",
        "            created_date = datetime.fromisoformat(created_at[:-1])\n",
        "\n",
        "            if created_date.weekday() in [5, 6]:\n",
        "                user_login = row['login']\n",
        "                weekend_repo_counts[user_login] += 1\n",
        "\n",
        "top_users = weekend_repo_counts.most_common(5)\n",
        "\n",
        "top_logins = [user[0] for user in top_users]\n",
        "\n",
        "print(','.join(top_logins))"
      ]
    },
    {
      "cell_type": "markdown",
      "id": "6d9da60a-2ff0-4421-808e-ab9a74bf02fb",
      "metadata": {
        "id": "6d9da60a-2ff0-4421-808e-ab9a74bf02fb"
      },
      "source": [
        "#### Q15. Do people who are hireable share their email addresses more often?"
      ]
    },
    {
      "cell_type": "code",
      "execution_count": 24,
      "id": "b8381831-d1ed-4855-afc2-97ad1c06a1af",
      "metadata": {
        "colab": {
          "base_uri": "https://localhost:8080/"
        },
        "id": "b8381831-d1ed-4855-afc2-97ad1c06a1af",
        "outputId": "61289ead-e337-4309-f5f7-0703cd90f9d0"
      },
      "outputs": [
        {
          "output_type": "execute_result",
          "data": {
            "text/plain": [
              "0.2234405300581771"
            ]
          },
          "metadata": {},
          "execution_count": 24
        }
      ],
      "source": [
        "fraction_hierable = users[users['hireable'] == True]['email'].notna().mean()\n",
        "fraction_non_hierable = users[users['hireable'] == False]['email'].notna().mean()\n",
        "diff = fraction_hierable - fraction_non_hierable\n",
        "diff"
      ]
    },
    {
      "cell_type": "markdown",
      "id": "806a227e-1285-4c5f-bb05-867a3fd5101a",
      "metadata": {
        "id": "806a227e-1285-4c5f-bb05-867a3fd5101a"
      },
      "source": [
        "#### Q16. Let's assume that the last word in a user's name is their surname (ignore missing names, trim and split by whitespace.) What's the most common surname? (If there's a tie, list them all, comma-separated, alphabetically)"
      ]
    },
    {
      "cell_type": "code",
      "execution_count": 25,
      "id": "01a24dfb-05cc-4528-b118-558b2307639c",
      "metadata": {
        "colab": {
          "base_uri": "https://localhost:8080/"
        },
        "id": "01a24dfb-05cc-4528-b118-558b2307639c",
        "outputId": "99035fd1-321c-4b37-9ca3-c90ad45a39ca"
      },
      "outputs": [
        {
          "output_type": "stream",
          "name": "stdout",
          "text": [
            "Singh\n"
          ]
        }
      ],
      "source": [
        "new_users = users[users['name'].notna()].copy()\n",
        "new_users['surname'] = new_users['name'].str.split().str[-1].str.strip()\n",
        "surname_counts = new_users['surname'].value_counts()\n",
        "max_count = surname_counts.max()\n",
        "common_surnames = surname_counts[surname_counts == max_count].index.tolist()\n",
        "common_surnames.sort()\n",
        "print(','.join(common_surnames))"
      ]
    }
  ],
  "metadata": {
    "kernelspec": {
      "display_name": "Python 3",
      "language": "python",
      "name": "python3"
    },
    "language_info": {
      "codemirror_mode": {
        "name": "ipython",
        "version": 3
      },
      "file_extension": ".py",
      "mimetype": "text/x-python",
      "name": "python",
      "nbconvert_exporter": "python",
      "pygments_lexer": "ipython3",
      "version": "3.12.7"
    },
    "colab": {
      "provenance": []
    }
  },
  "nbformat": 4,
  "nbformat_minor": 5
}